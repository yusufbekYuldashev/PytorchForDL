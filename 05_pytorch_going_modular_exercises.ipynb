{
 "cells": [
  {
   "cell_type": "markdown",
   "metadata": {
    "colab_type": "text",
    "id": "view-in-github"
   },
   "source": [
    "<a href=\"https://colab.research.google.com/github/mrdbourke/pytorch-deep-learning/blob/main/extras/exercises/05_pytorch_going_modular_exercise_template.ipynb\" target=\"_parent\"><img src=\"https://colab.research.google.com/assets/colab-badge.svg\" alt=\"Open In Colab\"/></a>"
   ]
  },
  {
   "cell_type": "markdown",
   "metadata": {
    "id": "zNqPNlYylluR"
   },
   "source": [
    "# 05. PyTorch Going Modular Exercises\n",
    "\n",
    "Welcome to the 05. PyTorch Going Modular exercise template notebook.\n",
    "\n",
    "There are several questions in this notebook and it's your goal to answer them by writing Python and PyTorch code.\n",
    "\n",
    "> **Note:** There may be more than one solution to each of the exercises, don't worry too much about the *exact* right answer. Try to write some code that works first and then improve it if you can.\n",
    "\n",
    "## Resources and solutions\n",
    "\n",
    "* These exercises/solutions are based on [section 05. PyTorch Going Modular](https://www.learnpytorch.io/05_pytorch_going_modular/) of the Learn PyTorch for Deep Learning course by Zero to Mastery.\n",
    "\n",
    "**Solutions:** \n",
    "\n",
    "Try to complete the code below *before* looking at these.\n",
    "\n",
    "* See a live [walkthrough of the solutions (errors and all) on YouTube](https://youtu.be/ijgFhMK3pp4).\n",
    "* See an example [solutions notebook for these exercises on GitHub](https://github.com/mrdbourke/pytorch-deep-learning/blob/main/extras/solutions/05_pytorch_going_modular_exercise_solutions.ipynb)."
   ]
  },
  {
   "cell_type": "markdown",
   "metadata": {
    "id": "bicbWSrPmfTU"
   },
   "source": [
    "## 1. Turn the code to get the data (from section 1. Get Data) into a Python script, such as `get_data.py`.\n",
    "\n",
    "* When you run the script using `python get_data.py` it should check if the data already exists and skip downloading if it does.\n",
    "* If the data download is successful, you should be able to access the `pizza_steak_sushi` images from the `data` directory."
   ]
  },
  {
   "cell_type": "code",
   "execution_count": null,
   "metadata": {
    "id": "r0BCn1XIYZ8c"
   },
   "outputs": [],
   "source": [
    "%%writefile going_modular/get_data.py\n",
    "\n",
    "import requests\n",
    "import zipfile\n",
    "from pathlib import Path\n",
    "\n",
    "data_path = Path('data/')\n",
    "image_path = data_path/'pizza_steak_sushi'\n",
    "\n",
    "if image_path.is_dir():\n",
    "    print('Skipping creating')\n",
    "else:\n",
    "    print('Creating one')\n",
    "    image_path.mkdir(parents=True, exist_ok=True)\n",
    "    \n",
    "with open(data_path/'pizza_steak_sushi.zip', 'wb') as f:\n",
    "    request = requests.get(\"https://github.com/mrdbourke/pytorch-deep-learning/raw/main/data/pizza_steak_sushi.zip\")\n",
    "    print('Downloading')\n",
    "    f.write(request.content)\n",
    "    \n",
    "with zipfile.ZipFile(data_path/'pizza_steak_sushi.zip', 'r') as zip_ref:\n",
    "    print('Unzipping')\n",
    "    zip_ref.extractall(image_path)"
   ]
  },
  {
   "cell_type": "code",
   "execution_count": null,
   "metadata": {
    "id": "_LrUOIC-YOP9"
   },
   "outputs": [],
   "source": [
    "# Example running of get_data.py\n",
    "# from going_modular import get_data\n",
    "!python going_modular/get_data.py"
   ]
  },
  {
   "cell_type": "markdown",
   "metadata": {
    "id": "zjyn7LU3mvkR"
   },
   "source": [
    "## 2. Use [Python's `argparse` module](https://docs.python.org/3/library/argparse.html) to be able to send the `train.py` custom hyperparameter values for training procedures.\n",
    "* Add an argument flag for using a different:\n",
    "  * Training/testing directory\n",
    "  * Learning rate\n",
    "  * Batch size\n",
    "  * Number of epochs to train for\n",
    "  * Number of hidden units in the TinyVGG model\n",
    "    * Keep the default values for each of the above arguments as what they already are (as in notebook 05).\n",
    "* For example, you should be able to run something similar to the following line to train a TinyVGG model with a learning rate of 0.003 and a batch size of 64 for 20 epochs: `python train.py --learning_rate 0.003 batch_size 64 num_epochs 20`.\n",
    "* **Note:** Since `train.py` leverages the other scripts we created in section 05, such as, `model_builder.py`, `utils.py` and `engine.py`, you'll have to make sure they're available to use too. You can find these in the [`going_modular` folder on the course GitHub](https://github.com/mrdbourke/pytorch-deep-learning/tree/main/going_modular/going_modular). "
   ]
  },
  {
   "cell_type": "code",
   "execution_count": 16,
   "metadata": {
    "id": "MKNDUp45YaW-"
   },
   "outputs": [
    {
     "name": "stdout",
     "output_type": "stream",
     "text": [
      "Overwriting going_modular/train.py\n"
     ]
    }
   ],
   "source": [
    "%%writefile going_modular/train.py\n",
    "\n",
    "import os\n",
    "import torch\n",
    "from torchvision import transforms\n",
    "from timeit import default_timer as timer\n",
    "import data_setup, engine, model_builder, utils\n",
    "import argparse\n",
    "\n",
    "parser = argparse.ArgumentParser()\n",
    "parser.add_argument('--train_dir', '-train_dir', type=str, help='Training data directory', default='data/pizza_steak_sushi/train')\n",
    "parser.add_argument('--test_dir', '-test_dir', type=str, help='Testing data directory', default='data/pizza_steak_sushi/test')\n",
    "parser.add_argument('-learning_rate', '--learning_rate', type=float, help='Learning rate for the model', default=0.001)\n",
    "parser.add_argument('-batch_size', '--batch_size', type=int, help='Batch size', default=32)\n",
    "parser.add_argument('-num_epochs', '--num_epochs', type=int, help='Number of epochs', default=10)\n",
    "parser.add_argument('-hidden_units', '--hidden_units', type=int, help='Number of hidden units for the hidden layer', default=10)\n",
    "\n",
    "args = parser.parse_args()\n",
    "\n",
    "LEARNING_RATE = args.learning_rate \n",
    "BATCH_SIZE = args.batch_size\n",
    "NUM_EPOCHS = args.num_epochs\n",
    "HIDDEN_UNITS = args.hidden_units\n",
    "\n",
    "train_dir = args.train_dir\n",
    "test_dir = args.test_dir\n",
    "\n",
    "device = 'cuda' if torch.cuda.is_available() else 'cpu'\n",
    "\n",
    "transform = transforms.Compose([\n",
    "    transforms.Resize((64, 64)),\n",
    "    transforms.ToTensor()\n",
    "])\n",
    "\n",
    "train_dataloader, test_dataloader, class_names = data_setup.create_dataloader(train_dir, test_dir, transform, BATCH_SIZE)\n",
    "\n",
    "model = model_builder.TinyVGG(input_shape=3, hidden_units=HIDDEN_UNITS, output_shape=len(class_names)).to(device)\n",
    "\n",
    "loss_fn = torch.nn.CrossEntropyLoss()\n",
    "optimizer = torch.optim.Adam(model.parameters(), lr=LEARNING_RATE)\n",
    "\n",
    "start = timer()\n",
    "print('Starting training')\n",
    "engine.train(model, train_dataloader, test_dataloader, optimizer, device, loss_fn, NUM_EPOCHS)\n",
    "end = timer()\n",
    "print('Saving the model')\n",
    "utils.save_model(model, target_dir='models', model_name='05_going_modular_tinyvgg.pth')"
   ]
  },
  {
   "cell_type": "code",
   "execution_count": 17,
   "metadata": {
    "id": "LzaJl39lC40N"
   },
   "outputs": [
    {
     "name": "stdout",
     "output_type": "stream",
     "text": [
      "The autoreload extension is already loaded. To reload it, use:\n",
      "  %reload_ext autoreload\n",
      "^C\n"
     ]
    }
   ],
   "source": [
    "# Example running of train.py\n",
    "%load_ext autoreload\n",
    "%autoreload 2\n",
    "\n",
    "!python going_modular/train.py --num_epochs 5 --batch_size 32 --hidden_units 32 --learning_rate 0.0003"
   ]
  },
  {
   "cell_type": "markdown",
   "metadata": {
    "id": "P2g6EEYvm-46"
   },
   "source": [
    "## 3. Create a Python script to predict (such as `predict.py`) on a target image given a file path with a saved model.\n",
    "\n",
    "* For example, you should be able to run the command `python predict.py some_image.jpeg` and have a trained PyTorch model predict on the image and return its prediction.\n",
    "* To see example prediction code, check out the [predicting on a custom image section in notebook 04](https://www.learnpytorch.io/04_pytorch_custom_datasets/#113-putting-custom-image-prediction-together-building-a-function). \n",
    "* You may also have to write code to load in a trained model."
   ]
  },
  {
   "cell_type": "code",
   "execution_count": 21,
   "metadata": {
    "id": "HU7W6VZfYawP"
   },
   "outputs": [
    {
     "name": "stdout",
     "output_type": "stream",
     "text": [
      "Overwriting going_modular/predict.py\n"
     ]
    }
   ],
   "source": [
    "%%writefile going_modular/predict.py\n",
    "\n",
    "import torch\n",
    "import torchvision\n",
    "from torchvision import transforms\n",
    "import model_builder\n",
    "import argparse\n",
    "from pathlib import Path\n",
    "\n",
    "device = 'cuda' if torch.cuda.is_available() else 'cpu'\n",
    "\n",
    "parser = argparse.ArgumentParser()\n",
    "parser.add_argument('--image', type=str, help='Target image address')\n",
    "parser.add_argument(\"--model_path\",\n",
    "                    default=\"models/05_going_modular_tinyvgg.pth\",\n",
    "                    type=str,\n",
    "                    help=\"target model to use for prediction filepath\")\n",
    "\n",
    "args = parser.parse_args()\n",
    "\n",
    "image_path = args.image\n",
    "class_names = ['pizza', 'steak', 'sushi']\n",
    "\n",
    "image = torchvision.io.read_image(str(image_path)).type(torch.float32)\n",
    "image = image / 255.\n",
    "\n",
    "transform = transforms.Compose([\n",
    "    transforms.Resize((64, 64))\n",
    "])\n",
    "image = transform(image)\n",
    "\n",
    "model = model_builder.TinyVGG(3, 10, 3)\n",
    "model.load_state_dict(torch.load(f=args.model_path))\n",
    "model.to(device)\n",
    "model.eval()\n",
    "with torch.inference_mode():\n",
    "    image = image.unsqueeze(dim=0)\n",
    "    logits = model(image)\n",
    "    probs = torch.softmax(logits, dim=1)\n",
    "    label = torch.argmax(probs, dim=1)\n",
    "print(f\"Pred: {class_names[label.cpu()]} Prob: {probs.max().cpu():.3f}\")"
   ]
  },
  {
   "cell_type": "code",
   "execution_count": 22,
   "metadata": {
    "id": "Zcvw9sitIn6r"
   },
   "outputs": [
    {
     "name": "stdout",
     "output_type": "stream",
     "text": [
      "Pred: steak Prob: 0.351\n"
     ]
    },
    {
     "name": "stderr",
     "output_type": "stream",
     "text": [
      "C:\\Users\\InE_STD\\anaconda3\\lib\\site-packages\\torchvision\\transforms\\functional.py:1603: UserWarning: The default value of the antialias parameter of all the resizing transforms (Resize(), RandomResizedCrop(), etc.) will change from None to True in v0.17, in order to be consistent across the PIL and Tensor backends. To suppress this warning, directly pass antialias=True (recommended, future default), antialias=None (current default, which means False for Tensors and True for PIL), or antialias=False (only works on Tensors - PIL will still use antialiasing). This also applies if you are using the inference transforms from the models weights: update the call to weights.transforms(antialias=True).\n",
      "  warnings.warn(\n"
     ]
    }
   ],
   "source": [
    "# Example running of predict.py \n",
    "!python going_modular/predict.py --image data/pizza_steak_sushi/test/sushi/175783.jpg"
   ]
  },
  {
   "cell_type": "code",
   "execution_count": null,
   "metadata": {},
   "outputs": [],
   "source": []
  }
 ],
 "metadata": {
  "accelerator": "GPU",
  "colab": {
   "authorship_tag": "ABX9TyNcX0JATB1YsaAFGNe0TGWq",
   "collapsed_sections": [],
   "include_colab_link": true,
   "name": "05_pytorch_going_modular_exercise_template.ipynb",
   "provenance": []
  },
  "kernelspec": {
   "display_name": "Python 3 (ipykernel)",
   "language": "python",
   "name": "python3"
  },
  "language_info": {
   "codemirror_mode": {
    "name": "ipython",
    "version": 3
   },
   "file_extension": ".py",
   "mimetype": "text/x-python",
   "name": "python",
   "nbconvert_exporter": "python",
   "pygments_lexer": "ipython3",
   "version": "3.9.12"
  }
 },
 "nbformat": 4,
 "nbformat_minor": 1
}
