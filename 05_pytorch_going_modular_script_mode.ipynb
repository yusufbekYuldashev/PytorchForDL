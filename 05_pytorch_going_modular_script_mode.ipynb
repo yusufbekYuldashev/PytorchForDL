{
 "cells": [
  {
   "cell_type": "code",
   "execution_count": null,
   "id": "8d831a8c",
   "metadata": {},
   "outputs": [],
   "source": [
    "!rm -rf data/\n",
    "!rm -rf models/"
   ]
  },
  {
   "cell_type": "code",
   "execution_count": 5,
   "id": "07e1674e",
   "metadata": {},
   "outputs": [],
   "source": [
    "import os\n",
    "# os.makedirs('going_modular')\n",
    "# magic commands with % deals with contents of a line; those with %% deals with contents of a cell"
   ]
  },
  {
   "cell_type": "code",
   "execution_count": 7,
   "id": "2df29bf0",
   "metadata": {},
   "outputs": [
    {
     "name": "stdout",
     "output_type": "stream",
     "text": [
      "Writing going_modular/data_setup.py\n"
     ]
    }
   ],
   "source": [
    "%%writefile going_modular/data_setup.py \n",
    "\"\"\"\n",
    "Contains functionality to create dataloader for image classification task\n",
    "\"\"\"\n",
    "import os\n",
    "from torchvision import datasets, transforms\n",
    "from torch.utils.data import DataLoader\n",
    "\n",
    "NUM_WORKERS = os.cpu_count()\n",
    "\n",
    "def create_dataloader(\n",
    "    train_dir,\n",
    "    test_dir,\n",
    "    transform,\n",
    "    batch_size,\n",
    "    num_workers=NUM_WORKERS\n",
    "):\n",
    "    train_data = datasets.ImageFolder(train_dir, transform)\n",
    "    test_data = datasets.ImageFolder(test_dir, transform)\n",
    "    \n",
    "    class_names = train_data.classes\n",
    "    \n",
    "    train_dataloader = DataLoader(train_data, batch_size, num_workers=num_workers, shuffle=True)\n",
    "    test_dataloader = DataLoader(train_data, batch_size, num_workers=num_workers, pin_memory=True, shuffle=False)\n",
    "    \n",
    "    return train_dataloader, test_dataloader, class_names"
   ]
  },
  {
   "cell_type": "code",
   "execution_count": 11,
   "id": "2926d279",
   "metadata": {},
   "outputs": [],
   "source": [
    "from going_modular import data_setup\n",
    "data_setup.create_dataloader?"
   ]
  },
  {
   "cell_type": "code",
   "execution_count": 12,
   "id": "50b18c12",
   "metadata": {},
   "outputs": [
    {
     "name": "stdout",
     "output_type": "stream",
     "text": [
      "Writing going_modular/model_builder.py\n"
     ]
    }
   ],
   "source": [
    "%%writefile going_modular/model_builder.py\n",
    "\"\"\"\n",
    "Contains code to create a TinyVGG model\n",
    "\"\"\"\n",
    "import torch\n",
    "from torch import nn\n",
    "\n",
    "class TinyVGG(nn.Module):\n",
    "    pass"
   ]
  },
  {
   "cell_type": "code",
   "execution_count": 13,
   "id": "a657d361",
   "metadata": {},
   "outputs": [],
   "source": [
    "from going_modular import model_builder\n",
    "\n",
    "model_builder.TinyVGG?"
   ]
  },
  {
   "cell_type": "code",
   "execution_count": 14,
   "id": "2d7e71b7",
   "metadata": {},
   "outputs": [
    {
     "name": "stdout",
     "output_type": "stream",
     "text": [
      "Writing going_modular/engine.py\n"
     ]
    }
   ],
   "source": [
    "%%writefile going_modular/engine.py\n",
    "\"\"\"\n",
    "Contains code for training and testing step and train function.\n",
    "\"\"\"\n",
    "from typing import Dict, List, Tuple\n",
    "import torch\n",
    "from tqdm.auto import tqdm\n",
    "\n",
    "def train_step():\n",
    "    pass\n",
    "\n",
    "def test_step():\n",
    "    pass\n",
    "\n",
    "def train():\n",
    "    pass"
   ]
  },
  {
   "cell_type": "code",
   "execution_count": 15,
   "id": "4020dd2b",
   "metadata": {},
   "outputs": [],
   "source": [
    "from going_modular import engine\n",
    "engine?"
   ]
  },
  {
   "cell_type": "code",
   "execution_count": 17,
   "id": "a0e75af3",
   "metadata": {},
   "outputs": [
    {
     "name": "stdout",
     "output_type": "stream",
     "text": [
      "Overwriting going_modular/utils.py\n"
     ]
    }
   ],
   "source": [
    "%%writefile going_modular/utils.py\n",
    "\"\"\"\n",
    "Contains utility functions\n",
    "\"\"\"\n",
    "import torch\n",
    "from pathlib import Path\n",
    "\n",
    "def save_model():\n",
    "    pass"
   ]
  },
  {
   "cell_type": "code",
   "execution_count": 18,
   "id": "eac9a1da",
   "metadata": {},
   "outputs": [],
   "source": [
    "from going_modular import utils\n",
    "utils.save_model?"
   ]
  },
  {
   "cell_type": "code",
   "execution_count": 19,
   "id": "c367273f",
   "metadata": {},
   "outputs": [
    {
     "name": "stdout",
     "output_type": "stream",
     "text": [
      "Writing going_modular/train.py\n"
     ]
    }
   ],
   "source": [
    "%%writefile going_modular/train.py\n",
    "\"\"\"\n",
    "Contains code to train the model\n",
    "\"\"\"\n",
    "import os\n",
    "import torch\n",
    "from torchvision import transforms\n",
    "from timeit import default_timer as timer\n",
    "import data_setup, engine, model_builder, utils\n",
    "\n",
    "import argparse\n",
    "\n",
    "NUM_EPOCHS = 5\n",
    "BATCH_SIZE = 32\n",
    "HIDDEN_UNITS = 10\n",
    "LEARNING_RATE = 0.001\n",
    "\n",
    "train_dir = 'data/pizza_steak_sushi/train'\n",
    "test_dir = 'data/pizza_steak_sushi/test'\n",
    "\n",
    "device = 'cuda' if torch.cuda.is_available() else 'cpu'\n",
    "\n",
    "transform = transforms.Compose([\n",
    "    transforms.Resize((64, 64)),\n",
    "    transforms.ToTensor()\n",
    "])\n",
    "\n",
    "train_dataloader, test_dataloader, class_names = data_setup.create_dataloader(train_dir, test_dir, transform, BATCH_SIZE)\n",
    "\n",
    "model = model_builder.TinyVGG(input_shape=3, hidden_units=HIDDEN_UNITS, output_shape=len(class_names)).to(device)\n",
    "\n",
    "loss_fn = torch.nn.CrossEntropyLoss()\n",
    "optimizer = torch.optim.Adam(model.parmeters(), lr=LEARNING_RATE)\n",
    "\n",
    "start = timer()\n",
    "engine.train(model, train_dataloader, test_dataloader, loss_fn, optimizer, epochs=NUM_EPOCHS, device=device)\n",
    "end = timer()\n",
    "\n",
    "utils.save_model(model, target_dir='models', model_name='05_going_modular_tinyvgg.pth')"
   ]
  },
  {
   "cell_type": "code",
   "execution_count": 20,
   "id": "a46b04cb",
   "metadata": {},
   "outputs": [
    {
     "ename": "ModuleNotFoundError",
     "evalue": "No module named 'data_setup'",
     "output_type": "error",
     "traceback": [
      "\u001b[1;31m---------------------------------------------------------------------------\u001b[0m",
      "\u001b[1;31mModuleNotFoundError\u001b[0m                       Traceback (most recent call last)",
      "Input \u001b[1;32mIn [20]\u001b[0m, in \u001b[0;36m<cell line: 1>\u001b[1;34m()\u001b[0m\n\u001b[1;32m----> 1\u001b[0m \u001b[38;5;28;01mfrom\u001b[39;00m \u001b[38;5;21;01mgoing_modular\u001b[39;00m \u001b[38;5;28;01mimport\u001b[39;00m train\n\u001b[0;32m      2\u001b[0m get_ipython()\u001b[38;5;241m.\u001b[39mrun_line_magic(\u001b[38;5;124m'\u001b[39m\u001b[38;5;124mpinfo\u001b[39m\u001b[38;5;124m'\u001b[39m, \u001b[38;5;124m'\u001b[39m\u001b[38;5;124mtrain\u001b[39m\u001b[38;5;124m'\u001b[39m)\n",
      "File \u001b[1;32m~\\Documents\\Learning\\Computer vision\\tutorials\\PyTorch for DL (Udemy)\\going_modular\\train.py:8\u001b[0m, in \u001b[0;36m<module>\u001b[1;34m\u001b[0m\n\u001b[0;32m      6\u001b[0m \u001b[38;5;28;01mfrom\u001b[39;00m \u001b[38;5;21;01mtorchvision\u001b[39;00m \u001b[38;5;28;01mimport\u001b[39;00m transforms\n\u001b[0;32m      7\u001b[0m \u001b[38;5;28;01mfrom\u001b[39;00m \u001b[38;5;21;01mtimeit\u001b[39;00m \u001b[38;5;28;01mimport\u001b[39;00m default_timer \u001b[38;5;28;01mas\u001b[39;00m timer\n\u001b[1;32m----> 8\u001b[0m \u001b[38;5;28;01mimport\u001b[39;00m \u001b[38;5;21;01mdata_setup\u001b[39;00m\u001b[38;5;241m,\u001b[39m \u001b[38;5;21;01mengine\u001b[39;00m\u001b[38;5;241m,\u001b[39m \u001b[38;5;21;01mmodel_builder\u001b[39;00m\u001b[38;5;241m,\u001b[39m \u001b[38;5;21;01mutils\u001b[39;00m\n\u001b[0;32m     10\u001b[0m \u001b[38;5;28;01mimport\u001b[39;00m \u001b[38;5;21;01margparse\u001b[39;00m\n\u001b[0;32m     12\u001b[0m NUM_EPOCHS \u001b[38;5;241m=\u001b[39m \u001b[38;5;241m5\u001b[39m\n",
      "\u001b[1;31mModuleNotFoundError\u001b[0m: No module named 'data_setup'"
     ]
    }
   ],
   "source": [
    "from going_modular import train\n",
    "train?\n",
    "# !python going_modular/train.py"
   ]
  },
  {
   "cell_type": "code",
   "execution_count": null,
   "id": "cada2b93",
   "metadata": {},
   "outputs": [],
   "source": []
  }
 ],
 "metadata": {
  "kernelspec": {
   "display_name": "Python 3 (ipykernel)",
   "language": "python",
   "name": "python3"
  },
  "language_info": {
   "codemirror_mode": {
    "name": "ipython",
    "version": 3
   },
   "file_extension": ".py",
   "mimetype": "text/x-python",
   "name": "python",
   "nbconvert_exporter": "python",
   "pygments_lexer": "ipython3",
   "version": "3.9.12"
  }
 },
 "nbformat": 4,
 "nbformat_minor": 5
}
