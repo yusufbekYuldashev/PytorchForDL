{
 "cells": [
  {
   "cell_type": "code",
   "execution_count": null,
   "id": "8d831a8c",
   "metadata": {},
   "outputs": [],
   "source": [
    "!rm -rf data/\n",
    "!rm -rf models/"
   ]
  },
  {
   "cell_type": "code",
   "execution_count": 1,
   "id": "07e1674e",
   "metadata": {},
   "outputs": [],
   "source": [
    "import os\n",
    "# os.makedirs('going_modular')\n",
    "# magic commands with % deals with contents of a line; those with %% deals with contents of a cell"
   ]
  },
  {
   "cell_type": "code",
   "execution_count": 2,
   "id": "0ccfa20e",
   "metadata": {},
   "outputs": [
    {
     "name": "stdout",
     "output_type": "stream",
     "text": [
      "Skipping creating\n"
     ]
    }
   ],
   "source": [
    "import torch \n",
    "import requests\n",
    "import zipfile\n",
    "from pathlib import Path\n",
    "from torch.utils.data import DataLoader\n",
    "from torchvision import datasets, transforms\n",
    "\n",
    "device = 'cuda' if torch.cuda.is_available() else 'cpu'\n",
    "data_path = Path('data/')\n",
    "image_path = data_path/'pizza_steak_sushi'\n",
    "if image_path.is_dir():\n",
    "    print('Skipping creating')\n",
    "else:\n",
    "    image_path.mkdir(parents=True, exist_ok=True)\n",
    "    \n",
    "with open(data_path/'pizza_steak_sushi.zip', 'wb') as f:\n",
    "    request = requests.get(\"https://github.com/mrdbourke/pytorch-deep-learning/raw/main/data/pizza_steak_sushi.zip\")\n",
    "    f.write(request.content)\n",
    "    \n",
    "with zipfile.ZipFile(data_path/'pizza_steak_sushi.zip', 'r') as zip_ref:\n",
    "    zip_ref.extractall(image_path)\n",
    "    \n",
    "train_dir = image_path/'train'\n",
    "test_dir = image_path/'test'\n",
    "transform = transforms.Compose([\n",
    "    transforms.Resize((64, 64)),\n",
    "    transforms.ToTensor()\n",
    "])"
   ]
  },
  {
   "cell_type": "code",
   "execution_count": 3,
   "id": "2df29bf0",
   "metadata": {},
   "outputs": [
    {
     "name": "stdout",
     "output_type": "stream",
     "text": [
      "Overwriting going_modular/data_setup.py\n"
     ]
    }
   ],
   "source": [
    "%%writefile going_modular/data_setup.py \n",
    "\"\"\"\n",
    "Contains functionality to create dataloader for image classification task\n",
    "\"\"\"\n",
    "import os\n",
    "from torchvision import datasets, transforms\n",
    "from torch.utils.data import DataLoader\n",
    "\n",
    "NUM_WORKERS = os.cpu_count()\n",
    "\n",
    "def create_dataloader(\n",
    "    train_dir,\n",
    "    test_dir,\n",
    "    transform,\n",
    "    batch_size,\n",
    "    num_workers=NUM_WORKERS\n",
    "):\n",
    "    train_data = datasets.ImageFolder(train_dir, transform)\n",
    "    test_data = datasets.ImageFolder(test_dir, transform)\n",
    "    \n",
    "    class_names = train_data.classes\n",
    "    \n",
    "    train_dataloader = DataLoader(train_data, batch_size, num_workers=num_workers, shuffle=True)\n",
    "    test_dataloader = DataLoader(train_data, batch_size, num_workers=num_workers, pin_memory=True, shuffle=False)\n",
    "    \n",
    "    return train_dataloader, test_dataloader, class_names"
   ]
  },
  {
   "cell_type": "code",
   "execution_count": 4,
   "id": "2926d279",
   "metadata": {},
   "outputs": [],
   "source": [
    "from going_modular import data_setup\n",
    "train_dataloader, test_dataloader, class_names = data_setup.create_dataloader(train_dir, test_dir, transform, 32)"
   ]
  },
  {
   "cell_type": "code",
   "execution_count": 28,
   "id": "50b18c12",
   "metadata": {},
   "outputs": [
    {
     "name": "stdout",
     "output_type": "stream",
     "text": [
      "Overwriting going_modular/model_builder.py\n"
     ]
    }
   ],
   "source": [
    "%%writefile going_modular/model_builder.py\n",
    "\"\"\"\n",
    "Contains code to create a TinyVGG model\n",
    "\"\"\"\n",
    "import torch\n",
    "from torch import nn\n",
    "\n",
    "class TinyVGG(nn.Module):\n",
    "    def __init__(self, input_shape, hidden_units, output_shape):\n",
    "        super().__init__()\n",
    "        self.conv_block1 = nn.Sequential(\n",
    "            nn.Conv2d(in_channels=input_shape, out_channels=hidden_units, kernel_size=3, stride=1, padding=0),\n",
    "            nn.ReLU(),\n",
    "            nn.Conv2d(in_channels=hidden_units, out_channels=hidden_units, kernel_size=3, stride=1, padding=0),\n",
    "            nn.ReLU(),\n",
    "            nn.MaxPool2d(kernel_size=2, stride=2)\n",
    "        )\n",
    "        self.conv_block2 = nn.Sequential(\n",
    "            nn.Conv2d(in_channels=hidden_units, out_channels=hidden_units, kernel_size=3, stride=1, padding=0),\n",
    "            nn.ReLU(),\n",
    "            nn.Conv2d(in_channels=hidden_units, out_channels=hidden_units, kernel_size=3, stride=1, padding=0),\n",
    "            nn.ReLU(),\n",
    "            nn.MaxPool2d(kernel_size=2, stride=2)\n",
    "        )\n",
    "        self.classifier = nn.Sequential(\n",
    "            nn.Flatten(),\n",
    "            nn.Linear(in_features=hidden_units*13*13, out_features=output_shape)\n",
    "        )\n",
    "        \n",
    "    def forward(self, x):\n",
    "        return self.classifier(self.conv_block2(self.conv_block1(x)))"
   ]
  },
  {
   "cell_type": "code",
   "execution_count": 6,
   "id": "a657d361",
   "metadata": {},
   "outputs": [],
   "source": [
    "%load_ext autoreload\n",
    "%autoreload 2\n",
    "\n",
    "from going_modular import model_builder\n",
    "\n",
    "model = model_builder.TinyVGG(3, 10, len(class_names)).to(device)"
   ]
  },
  {
   "cell_type": "code",
   "execution_count": 2,
   "id": "2d7e71b7",
   "metadata": {},
   "outputs": [
    {
     "name": "stdout",
     "output_type": "stream",
     "text": [
      "Overwriting going_modular/engine.py\n"
     ]
    }
   ],
   "source": [
    "%%writefile going_modular/engine.py\n",
    "\"\"\"\n",
    "Contains code for training and testing step and train function.\n",
    "\"\"\"\n",
    "from typing import Dict, List, Tuple\n",
    "import torch\n",
    "from tqdm.auto import tqdm\n",
    "\n",
    "def train_step(model, dataloader, loss_fn, optim, device):\n",
    "    model.train()\n",
    "    train_loss, train_acc = 0, 0\n",
    "    for batch, (X, y) in enumerate(dataloader):\n",
    "        X, y = X.to(device), y.to(device)\n",
    "        pred = model(X)\n",
    "        loss = loss_fn(pred, y)\n",
    "        train_loss += loss.item()\n",
    "        train_acc += (y == torch.softmax(pred, dim=1).argmax(dim=1)).sum().item() / len(pred)\n",
    "        optim.zero_grad()\n",
    "        loss.backward()\n",
    "        optim.step()\n",
    "    train_loss = train_loss / len(dataloader)\n",
    "    train_acc = train_acc / len(dataloader)\n",
    "    return train_loss, train_acc\n",
    "\n",
    "def test_step(model, dataloader, loss_fn, device):\n",
    "    model.eval()\n",
    "    test_loss, test_acc = 0, 0\n",
    "    with torch.inference_mode():\n",
    "        for batch, (X, y) in enumerate(dataloader):\n",
    "            pred = model(X)\n",
    "            loss = loss_fn(pred, y)\n",
    "            test_loss += loss.item()\n",
    "            test_acc += (y==torch.softmax(pred, dim=1).argmax(dim=1)).sum().item() / len(pred)\n",
    "        test_loss /= len(dataloader)\n",
    "        test_acc /= len(dataloader)\n",
    "    return test_loss, test_acc\n",
    "\n",
    "def train(model, train_dataloader, test_dataloader, optim, device, loss_fn=torch.nn.CrossEntropyLoss, epochs=5):\n",
    "    print('Starting training')\n",
    "    results = {'train_loss': [],\n",
    "               'train_acc': [],\n",
    "               'test_loss':[],\n",
    "               'test_acc':[]}\n",
    "    for epoch in tqdm(range(epochs)):\n",
    "        print(f\"Epoch: {epoch}---------------------------------\")\n",
    "        train_loss, train_acc = train_step(model, train_dataloader, loss_fn, optim, device)\n",
    "        test_loss, test_acc = test_step(model, test_dataloader, loss_fn, device)\n",
    "        print(f\"Epoch: {epoch} Train acc: {train_acc:.2f} Train Loss: {train_loss:.4f} Test Acc: {test_acc:.2f} Test Loss: {test_loss:.4f}\")\n",
    "        results['train_loss'].append(train_loss)\n",
    "        results[\"train_acc\"].append(train_acc)\n",
    "        results[\"test_loss\"].append(test_loss)\n",
    "        results[\"test_acc\"].append(test_acc)\n",
    "    return results"
   ]
  },
  {
   "cell_type": "code",
   "execution_count": 14,
   "id": "4020dd2b",
   "metadata": {},
   "outputs": [],
   "source": [
    "from going_modular import engine\n",
    "engine.train?"
   ]
  },
  {
   "cell_type": "code",
   "execution_count": 34,
   "id": "a0e75af3",
   "metadata": {},
   "outputs": [
    {
     "name": "stdout",
     "output_type": "stream",
     "text": [
      "Overwriting going_modular/utils.py\n"
     ]
    }
   ],
   "source": [
    "%%writefile going_modular/utils.py\n",
    "\"\"\"\n",
    "Contains utility functions\n",
    "\"\"\"\n",
    "import torch\n",
    "from pathlib import Path\n",
    "\n",
    "def save_model(model, target_dir, model_name):\n",
    "    MODEL_PATH = Path(target_dir)\n",
    "    MODEL_PATH.mkdir(parents=True, exist_ok=True)\n",
    "    MODEL_SAVE_PATH = MODEL_PATH/model_name\n",
    "    torch.save(obj=model.state_dict(), f=MODEL_SAVE_PATH)"
   ]
  },
  {
   "cell_type": "code",
   "execution_count": 16,
   "id": "eac9a1da",
   "metadata": {},
   "outputs": [],
   "source": [
    "from going_modular import utils\n",
    "utils.save_model?"
   ]
  },
  {
   "cell_type": "code",
   "execution_count": 24,
   "id": "c367273f",
   "metadata": {},
   "outputs": [
    {
     "name": "stdout",
     "output_type": "stream",
     "text": [
      "Overwriting going_modular/train.py\n"
     ]
    }
   ],
   "source": [
    "%%writefile going_modular/train.py\n",
    "\"\"\"\n",
    "Contains code to train the model\n",
    "\"\"\"\n",
    "import os\n",
    "import torch\n",
    "from torchvision import transforms\n",
    "from timeit import default_timer as timer\n",
    "from going_modular import data_setup, engine, model_builder, utils\n",
    "\n",
    "import argparse\n",
    "\n",
    "NUM_EPOCHS = 5\n",
    "BATCH_SIZE = 32\n",
    "HIDDEN_UNITS = 10\n",
    "LEARNING_RATE = 0.001\n",
    "\n",
    "train_dir = 'data/pizza_steak_sushi/train'\n",
    "test_dir = 'data/pizza_steak_sushi/test'\n",
    "\n",
    "device = 'cuda' if torch.cuda.is_available() else 'cpu'\n",
    "\n",
    "transform = transforms.Compose([\n",
    "    transforms.Resize((64, 64)),\n",
    "    transforms.ToTensor()\n",
    "])\n",
    "\n",
    "train_dataloader, test_dataloader, class_names = data_setup.create_dataloader(train_dir, test_dir, transform, BATCH_SIZE)\n",
    "\n",
    "model = model_builder.TinyVGG(input_shape=3, hidden_units=HIDDEN_UNITS, output_shape=len(class_names)).to(device)\n",
    "\n",
    "loss_fn = torch.nn.CrossEntropyLoss()\n",
    "optimizer = torch.optim.Adam(model.parameters(), lr=LEARNING_RATE)\n",
    "\n",
    "start = timer()\n",
    "engine.train(model, train_dataloader, test_dataloader, optimizer, device, loss_fn, epochs=NUM_EPOCHS)\n",
    "end = timer()\n",
    "\n",
    "utils.save_model(model, target_dir='models', model_name='05_going_modular_tinyvgg.pth')"
   ]
  },
  {
   "cell_type": "code",
   "execution_count": 35,
   "id": "a46b04cb",
   "metadata": {},
   "outputs": [
    {
     "data": {
      "application/vnd.jupyter.widget-view+json": {
       "model_id": "ea40aaa716e044f98c5bcc904f4a7330",
       "version_major": 2,
       "version_minor": 0
      },
      "text/plain": [
       "  0%|          | 0/5 [00:00<?, ?it/s]"
      ]
     },
     "metadata": {},
     "output_type": "display_data"
    },
    {
     "name": "stdout",
     "output_type": "stream",
     "text": [
      "Epoch: 0 Train acc: 0.26 Train Loss: 1.1043 Test Acc: 0.52 Test Loss: 1.0939\n",
      "Epoch: 1 Train acc: 0.56 Train Loss: 1.0911 Test Acc: 0.44 Test Loss: 1.0936\n",
      "Epoch: 2 Train acc: 0.39 Train Loss: 1.0863 Test Acc: 0.31 Test Loss: 1.0793\n",
      "Epoch: 3 Train acc: 0.44 Train Loss: 1.0400 Test Acc: 0.37 Test Loss: 1.0492\n",
      "Epoch: 4 Train acc: 0.37 Train Loss: 1.0606 Test Acc: 0.54 Test Loss: 1.0202\n"
     ]
    },
    {
     "name": "stderr",
     "output_type": "stream",
     "text": [
      "Traceback (most recent call last):\n",
      "  File \"C:\\Users\\InE_STD\\Documents\\Learning\\Computer vision\\tutorials\\PyTorch for DL (Udemy)\\going_modular\\train.py\", line 8, in <module>\n",
      "    from going_modular import data_setup, engine, model_builder, utils\n",
      "ModuleNotFoundError: No module named 'going_modular'\n"
     ]
    }
   ],
   "source": [
    "from going_modular import train\n",
    "!python going_modular/train.py"
   ]
  },
  {
   "cell_type": "code",
   "execution_count": null,
   "id": "9aaab0a8",
   "metadata": {},
   "outputs": [],
   "source": []
  }
 ],
 "metadata": {
  "kernelspec": {
   "display_name": "Python 3 (ipykernel)",
   "language": "python",
   "name": "python3"
  },
  "language_info": {
   "codemirror_mode": {
    "name": "ipython",
    "version": 3
   },
   "file_extension": ".py",
   "mimetype": "text/x-python",
   "name": "python",
   "nbconvert_exporter": "python",
   "pygments_lexer": "ipython3",
   "version": "3.9.12"
  }
 },
 "nbformat": 4,
 "nbformat_minor": 5
}
