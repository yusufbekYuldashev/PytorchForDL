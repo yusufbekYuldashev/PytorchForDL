{
 "cells": [
  {
   "cell_type": "code",
   "execution_count": 2,
   "id": "e5d31045",
   "metadata": {},
   "outputs": [
    {
     "name": "stdout",
     "output_type": "stream",
     "text": [
      "2.0.1+cpu\n"
     ]
    }
   ],
   "source": [
    "import torch\n",
    "import pandas as pd\n",
    "import numpy as np\n",
    "import matplotlib.pyplot as plt\n",
    "print(torch.__version__)"
   ]
  },
  {
   "cell_type": "code",
   "execution_count": 4,
   "id": "113c4606",
   "metadata": {},
   "outputs": [
    {
     "name": "stdout",
     "output_type": "stream",
     "text": [
      "tensor(7)\n",
      "0\n",
      "7\n"
     ]
    }
   ],
   "source": [
    "scalar = torch.tensor(7)\n",
    "print(scalar)\n",
    "print(scalar.ndim)\n",
    "print(scalar.item())"
   ]
  },
  {
   "cell_type": "code",
   "execution_count": 6,
   "id": "0b4717f9",
   "metadata": {},
   "outputs": [
    {
     "name": "stdout",
     "output_type": "stream",
     "text": [
      "tensor([7, 8])\n",
      "1\n",
      "torch.Size([2])\n"
     ]
    }
   ],
   "source": [
    "vector = torch.tensor([7, 8])\n",
    "print(vector)\n",
    "print(vector.ndim)\n",
    "print(vector.shape)"
   ]
  },
  {
   "cell_type": "code",
   "execution_count": 7,
   "id": "173746de",
   "metadata": {},
   "outputs": [
    {
     "name": "stdout",
     "output_type": "stream",
     "text": [
      "tensor([[ 7,  8],\n",
      "        [ 9, 10]])\n",
      "tensor([7, 8])\n",
      "2\n",
      "torch.Size([2, 2])\n"
     ]
    }
   ],
   "source": [
    "matrix = torch.tensor([[7, 8],\n",
    "                      [9, 10]])\n",
    "print(matrix)\n",
    "print(matrix[0])\n",
    "print(matrix.ndim)\n",
    "print(matrix.shape)"
   ]
  },
  {
   "cell_type": "code",
   "execution_count": 8,
   "id": "4cbca57d",
   "metadata": {},
   "outputs": [
    {
     "name": "stdout",
     "output_type": "stream",
     "text": [
      "tensor([[[1, 2, 3],\n",
      "         [3, 6, 9],\n",
      "         [2, 4, 5]]])\n",
      "3\n",
      "torch.Size([1, 3, 3])\n"
     ]
    }
   ],
   "source": [
    "tensor = torch.tensor([[[1, 2, 3],\n",
    "                        [3, 6, 9],\n",
    "                        [2, 4, 5]]])\n",
    "print(tensor)\n",
    "print(tensor.ndim)\n",
    "print(tensor.shape)"
   ]
  },
  {
   "cell_type": "code",
   "execution_count": 9,
   "id": "ed96b1b6",
   "metadata": {},
   "outputs": [
    {
     "name": "stdout",
     "output_type": "stream",
     "text": [
      "tensor([[0.1695, 0.7263, 0.5678, 0.0025],\n",
      "        [0.5203, 0.6972, 0.7448, 0.2140],\n",
      "        [0.9197, 0.3861, 0.9094, 0.6568]])\n",
      "2\n",
      "torch.Size([3, 4])\n"
     ]
    }
   ],
   "source": [
    "random = torch.rand(3, 4)\n",
    "print(random)\n",
    "print(random.ndim)\n",
    "print(random.shape)"
   ]
  },
  {
   "cell_type": "code",
   "execution_count": 10,
   "id": "909b782c",
   "metadata": {},
   "outputs": [
    {
     "name": "stdout",
     "output_type": "stream",
     "text": [
      "tensor([[0., 0., 0., 0.],\n",
      "        [0., 0., 0., 0.],\n",
      "        [0., 0., 0., 0.]])\n",
      "2\n",
      "torch.Size([3, 4])\n",
      "torch.float32\n"
     ]
    }
   ],
   "source": [
    "zeros = torch.zeros(shape=(3, 4))\n",
    "ones = torch.ones(shape=(3, 4))\n",
    "print(zeros)\n",
    "print(zeros.ndim)\n",
    "print(zeros.shape)\n",
    "print(zeros.dtype)"
   ]
  },
  {
   "cell_type": "code",
   "execution_count": 18,
   "id": "bbedfd5c",
   "metadata": {},
   "outputs": [
    {
     "name": "stdout",
     "output_type": "stream",
     "text": [
      "tensor([1.0000, 1.5000, 2.0000, 2.5000, 3.0000, 3.5000, 4.0000, 4.5000, 5.0000,\n",
      "        5.5000, 6.0000, 6.5000, 7.0000, 7.5000, 8.0000, 8.5000, 9.0000, 9.5000])\n",
      "tensor([0., 0., 0., 0., 0., 0., 0., 0., 0., 0., 0., 0., 0., 0., 0., 0., 0., 0.])\n",
      "tensor([1., 1., 1., 1., 1., 1., 1., 1., 1., 1., 1., 1., 1., 1., 1., 1., 1., 1.])\n"
     ]
    }
   ],
   "source": [
    "ranges = torch.arange(start=1, end=10, step=0.5)\n",
    "print(ranges)\n",
    "\n",
    "zeros_like = torch.zeros_like(ranges)\n",
    "print(zeros_like)\n",
    "ones_like = torch.ones_like(ranges)\n",
    "print(ones_like)"
   ]
  },
  {
   "cell_type": "code",
   "execution_count": 22,
   "id": "0a0f1573",
   "metadata": {},
   "outputs": [
    {
     "name": "stdout",
     "output_type": "stream",
     "text": [
      "torch.float32\n",
      "torch.float16\n"
     ]
    }
   ],
   "source": [
    "float_32 = torch.tensor([3.0], dtype=None, device=None, requires_grad=False)\n",
    "print(float_32.dtype)\n",
    "float_16 = float_32.type(torch.float16)\n",
    "print(float_16.dtype)"
   ]
  },
  {
   "cell_type": "code",
   "execution_count": 24,
   "id": "59921151",
   "metadata": {},
   "outputs": [
    {
     "name": "stdout",
     "output_type": "stream",
     "text": [
      "tensor([[0.5950, 0.7725, 0.4742, 0.7341],\n",
      "        [0.1717, 0.2622, 0.1464, 0.7343],\n",
      "        [0.6881, 0.9014, 0.8097, 0.2595]])\n",
      "type: torch.float32\n",
      "shape: torch.Size([3, 4])\n",
      "device: cpu\n"
     ]
    }
   ],
   "source": [
    "tensor = torch.rand(3, 4)\n",
    "print(tensor)\n",
    "print('type:', tensor.dtype)\n",
    "print('shape:', tensor.shape)\n",
    "print('device:', tensor.device)"
   ]
  },
  {
   "cell_type": "code",
   "execution_count": 28,
   "id": "e1342122",
   "metadata": {},
   "outputs": [
    {
     "name": "stdout",
     "output_type": "stream",
     "text": [
      "tensor([11, 12, 13])\n",
      "tensor([11, 12, 13])\n",
      "tensor([10, 20, 30])\n",
      "tensor([10, 20, 30])\n",
      "tensor([-9, -8, -7])\n",
      "tensor([-9, -8, -7])\n",
      "tensor([0.1000, 0.2000, 0.3000])\n",
      "tensor([0.1000, 0.2000, 0.3000])\n"
     ]
    }
   ],
   "source": [
    "tensor = torch.tensor([1, 2, 3])\n",
    "\n",
    "print(tensor+10)\n",
    "print(torch.add(tensor, 10))\n",
    "\n",
    "print(tensor*10)\n",
    "print(torch.mul(tensor, 10))\n",
    "\n",
    "print(tensor-10)\n",
    "print(torch.sub(tensor, 10))\n",
    "\n",
    "print(tensor/10)\n",
    "print(torch.div(tensor, 10))"
   ]
  },
  {
   "cell_type": "code",
   "execution_count": 39,
   "id": "f53322a9",
   "metadata": {},
   "outputs": [
    {
     "name": "stdout",
     "output_type": "stream",
     "text": [
      "CPU times: total: 0 ns\n",
      "Wall time: 0 ns\n",
      "element wise mulitplication: tensor([[ 1,  4,  9],\n",
      "        [16, 25, 36],\n",
      "        [49, 64, 81]])\n",
      "CPU times: total: 0 ns\n",
      "Wall time: 0 ns\n",
      "dot product/ matrix multiplication: tensor([[ 30,  36,  42],\n",
      "        [ 66,  81,  96],\n",
      "        [102, 126, 150]])\n",
      "transpose: tensor([[1, 4, 7],\n",
      "        [2, 5, 8],\n",
      "        [3, 6, 9]])\n"
     ]
    }
   ],
   "source": [
    "import time\n",
    "tensor_1 = torch.tensor([[1, 2, 3],\n",
    "                         [4, 5, 6],\n",
    "                         [7, 8, 9]])\n",
    "tensor_2 = torch.tensor([[1, 2, 3],\n",
    "                         [4, 5, 6],\n",
    "                         [7, 8, 9]])\n",
    "%time\n",
    "print('element wise mulitplication:', tensor_1 * tensor_2)\n",
    "%time\n",
    "print('dot product/ matrix multiplication:', torch.matmul(tensor_1, tensor_2)) # == torch.mm\n",
    "print('transpose:', tensor_1.T)"
   ]
  },
  {
   "cell_type": "code",
   "execution_count": 44,
   "id": "1775312b",
   "metadata": {},
   "outputs": [
    {
     "name": "stdout",
     "output_type": "stream",
     "text": [
      "tensor(0.)\n",
      "tensor(90.)\n",
      "tensor(45.)\n",
      "tensor(450.)\n",
      "position of min: tensor(0)\n",
      "position of max: tensor(9)\n"
     ]
    }
   ],
   "source": [
    "# tensor aggregation - min, max, mean, sum, etc\n",
    "tensor = torch.arange(0, 100, 10, dtype=torch.float32)\n",
    "print(torch.min(tensor)) # == tensor.min()\n",
    "print(torch.max(tensor)) # == tensor.max()\n",
    "print(torch.mean(tensor)) # == tensor.mean()\n",
    "print(torch.sum(tensor)) # == tensor.sum()\n",
    "print('position of min:', torch.argmin(tensor)) # == tensor.argmin()\n",
    "print('position of max:', torch.argmax(tensor)) # == tensor.argmax()"
   ]
  },
  {
   "cell_type": "code",
   "execution_count": 62,
   "id": "b2a4e423",
   "metadata": {},
   "outputs": [
    {
     "name": "stdout",
     "output_type": "stream",
     "text": [
      "original: torch.Size([9])\n",
      "reshape: torch.Size([3, 3])\n",
      "view: torch.Size([1, 9])\n",
      "stack: torch.Size([2, 9])\n",
      "squeeze: before-> torch.Size([1, 9]) after-> torch.Size([9])\n",
      "unsqueeze: before-> torch.Size([9]) after-> torch.Size([1, 9])\n",
      "permute: before-> torch.Size([1, 9]) after-> torch.Size([9, 1])\n"
     ]
    }
   ],
   "source": [
    "# reshaping, viewing, stacking, squeezing, unsqueezing, permuting\n",
    "x = torch.arange(1., 10.)\n",
    "print('original:', x.shape)\n",
    "print('reshape:', x.reshape(3, 3).shape) # creates new tensor with reshaping x into new shape; number of elements must match\n",
    "print('view:', x.view(1, 9).shape) # reshapes x into new shape; both share the same memory; changing new changes old\n",
    "print('stack:', torch.stack([x, x], dim=0).shape) # stacks vertically; dim=1 stacks horizontally\n",
    "print('squeeze: before->', x.view(1, 9).shape, 'after->', torch.squeeze(x.view(1, 9)).shape) # removes dimensions equal to 1: = x.squeeze()\n",
    "print('unsqueeze: before->', x.shape, 'after->', torch.unsqueeze(x, dim=0).shape) # adds dimension 1 in dim: = x.unsqueeze(dim=0)\n",
    "print('permute: before->', x.view(1, 9).shape, 'after->', torch.permute(x.view(1, 9), (1, 0)).shape) # rearranges dimensions and shares the same memory like view: = x.permute(1, 0)"
   ]
  },
  {
   "cell_type": "code",
   "execution_count": 71,
   "id": "7a43b0d3",
   "metadata": {},
   "outputs": [
    {
     "name": "stdout",
     "output_type": "stream",
     "text": [
      "tensor([[[1, 2, 3],\n",
      "         [4, 5, 6],\n",
      "         [7, 8, 9]]])\n",
      "tensor(1) tensor(9) tensor([5]) tensor([[2, 5, 8]]) tensor([[3, 6, 9]])\n"
     ]
    }
   ],
   "source": [
    "x = torch.arange(1, 10).reshape(1, 3, 3)\n",
    "print(x)\n",
    "print(x[0][0][0], x[0][2][2], x[:, 1, 1], x[:, :, 1], x[:, :, 2])"
   ]
  },
  {
   "cell_type": "code",
   "execution_count": 76,
   "id": "8ce4c0a8",
   "metadata": {},
   "outputs": [
    {
     "name": "stdout",
     "output_type": "stream",
     "text": [
      "float64\n",
      "torch.float64\n",
      "float32\n"
     ]
    }
   ],
   "source": [
    "import numpy as np\n",
    "\n",
    "array = np.arange(1.0, 8.0)\n",
    "print(array.dtype) # default data type: float64\n",
    "tensor = torch.from_numpy(array)\n",
    "print(tensor.dtype) # reflects float64; but float32 is default\n",
    "array = tensor.to(torch.float32).numpy() # tensor.to(torch.float32) = tensor.float(); tensor.double(), tensor.int() - available\n",
    "print(array.dtype) # reflects float32; but float64 is default"
   ]
  },
  {
   "cell_type": "code",
   "execution_count": null,
   "id": "d7daa389",
   "metadata": {},
   "outputs": [],
   "source": [
    "# reproducibility - making random values static and able to be created at each new running\n",
    "random_seed = 42\n",
    "torch.manual_seed(random_seed)"
   ]
  },
  {
   "cell_type": "code",
   "execution_count": 80,
   "id": "a1dcbcd9",
   "metadata": {},
   "outputs": [
    {
     "name": "stdout",
     "output_type": "stream",
     "text": [
      "False\n",
      "cpu\n",
      "0\n",
      "tensor([1, 2, 3])\n"
     ]
    },
    {
     "name": "stderr",
     "output_type": "stream",
     "text": [
      "'nvidia-smi' is not recognized as an internal or external command,\n",
      "operable program or batch file.\n"
     ]
    }
   ],
   "source": [
    "# GPU \n",
    "!nvidia-smi\n",
    "\n",
    "print(torch.cuda.is_available())\n",
    "device = 'cuda' if torch.cuda.is_available() else 'cpu'\n",
    "print(device)\n",
    "print(torch.cuda.device_count())\n",
    "\n",
    "tensor = torch.tensor([1, 2, 3], device='cpu')\n",
    "print(tensor)\n",
    "tensor_to_device = tensor.to(device)\n",
    "tensor_to_cpu = tensor.cpu()"
   ]
  }
 ],
 "metadata": {
  "kernelspec": {
   "display_name": "Python 3 (ipykernel)",
   "language": "python",
   "name": "python3"
  },
  "language_info": {
   "codemirror_mode": {
    "name": "ipython",
    "version": 3
   },
   "file_extension": ".py",
   "mimetype": "text/x-python",
   "name": "python",
   "nbconvert_exporter": "python",
   "pygments_lexer": "ipython3",
   "version": "3.9.12"
  }
 },
 "nbformat": 4,
 "nbformat_minor": 5
}
