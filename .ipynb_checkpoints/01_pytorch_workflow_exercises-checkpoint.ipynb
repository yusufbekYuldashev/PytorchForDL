{
 "cells": [
  {
   "cell_type": "markdown",
   "metadata": {
    "colab_type": "text",
    "id": "view-in-github"
   },
   "source": [
    "<a href=\"https://colab.research.google.com/github/mrdbourke/pytorch-deep-learning/blob/main/extras/exercises/01_pytorch_workflow_exercises.ipynb\" target=\"_parent\"><img src=\"https://colab.research.google.com/assets/colab-badge.svg\" alt=\"Open In Colab\"/></a>"
   ]
  },
  {
   "cell_type": "markdown",
   "metadata": {
    "id": "N8LsPXZti9Sw"
   },
   "source": [
    "# 01. PyTorch Workflow Exercise Template\n",
    "\n",
    "The following is a template for the PyTorch workflow exercises.\n",
    "\n",
    "It's only starter code and it's your job to fill in the blanks.\n",
    "\n",
    "Because of the flexibility of PyTorch, there may be more than one way to answer the question.\n",
    "\n",
    "Don't worry about trying to be *right* just try writing code that suffices the question.\n",
    "\n",
    "You can see one form of [solutions on GitHub](https://github.com/mrdbourke/pytorch-deep-learning/tree/main/extras/solutions) (but try the exercises below yourself first!)."
   ]
  },
  {
   "cell_type": "code",
   "execution_count": 1,
   "metadata": {
    "id": "Glu2fM4dkNlx"
   },
   "outputs": [],
   "source": [
    "# Import necessary libraries\n",
    "import torch\n",
    "from torch import nn\n",
    "import matplotlib.pyplot as plt"
   ]
  },
  {
   "cell_type": "code",
   "execution_count": 2,
   "metadata": {
    "id": "LqKhXY26m31s"
   },
   "outputs": [],
   "source": [
    "# Setup device-agnostic code\n",
    "device = 'cuda' if torch.cuda.is_available() else 'cpu'"
   ]
  },
  {
   "cell_type": "markdown",
   "metadata": {
    "id": "g7HUhxCxjeBx"
   },
   "source": [
    "## 1. Create a straight line dataset using the linear regression formula (`weight * X + bias`).\n",
    "  * Set `weight=0.3` and `bias=0.9` there should be at least 100 datapoints total. \n",
    "  * Split the data into 80% training, 20% testing.\n",
    "  * Plot the training and testing data so it becomes visual.\n",
    "\n",
    "Your output of the below cell should look something like:\n",
    "```\n",
    "Number of X samples: 100\n",
    "Number of y samples: 100\n",
    "First 10 X & y samples:\n",
    "X: tensor([0.0000, 0.0100, 0.0200, 0.0300, 0.0400, 0.0500, 0.0600, 0.0700, 0.0800,\n",
    "        0.0900])\n",
    "y: tensor([0.9000, 0.9030, 0.9060, 0.9090, 0.9120, 0.9150, 0.9180, 0.9210, 0.9240,\n",
    "        0.9270])\n",
    "```\n",
    "\n",
    "Of course the numbers in `X` and `y` may be different but ideally they're created using the linear regression formula."
   ]
  },
  {
   "cell_type": "code",
   "execution_count": 11,
   "metadata": {
    "id": "KbDG5MV7jhvE"
   },
   "outputs": [
    {
     "name": "stdout",
     "output_type": "stream",
     "text": [
      "Number of X samples: 100\n",
      "Number of y samples: 100\n",
      "First 10 X & y samples:\n",
      "X: tensor([[0.0000],\n",
      "        [0.0100],\n",
      "        [0.0200],\n",
      "        [0.0300],\n",
      "        [0.0400],\n",
      "        [0.0500],\n",
      "        [0.0600],\n",
      "        [0.0700],\n",
      "        [0.0800],\n",
      "        [0.0900]])\n",
      "y: tensor([[0.9000],\n",
      "        [0.9030],\n",
      "        [0.9060],\n",
      "        [0.9090],\n",
      "        [0.9120],\n",
      "        [0.9150],\n",
      "        [0.9180],\n",
      "        [0.9210],\n",
      "        [0.9240],\n",
      "        [0.9270]])\n"
     ]
    }
   ],
   "source": [
    "# Create the data parameters\n",
    "weight = 0.3\n",
    "bias = 0.9\n",
    "\n",
    "# Make X and y using linear regression feature\n",
    "start = 0\n",
    "end = 1\n",
    "step = 0.01\n",
    "X = torch.arange(start, end, step).unsqueeze(dim=1)\n",
    "y = weight * X + bias\n",
    "\n",
    "print(f\"Number of X samples: {len(X)}\")\n",
    "print(f\"Number of y samples: {len(y)}\")\n",
    "print(f\"First 10 X & y samples:\\nX: {X[:10]}\\ny: {y[:10]}\")"
   ]
  },
  {
   "cell_type": "code",
   "execution_count": 12,
   "metadata": {
    "id": "GlwtT1djkmLw"
   },
   "outputs": [
    {
     "data": {
      "text/plain": [
       "(torch.Size([80, 1]),\n",
       " torch.Size([80, 1]),\n",
       " torch.Size([20, 1]),\n",
       " torch.Size([20, 1]))"
      ]
     },
     "execution_count": 12,
     "metadata": {},
     "output_type": "execute_result"
    }
   ],
   "source": [
    "# Split the data into training and testing\n",
    "split = int(0.8 * len(X))\n",
    "X_train, y_train = X[:split], y[:split]\n",
    "X_test, y_test = X[split:], y[split:]\n",
    "X_train.shape, y_train.shape, X_test.shape, y_test.shape"
   ]
  },
  {
   "cell_type": "code",
   "execution_count": 20,
   "metadata": {
    "id": "29iQZFNhlYJ-"
   },
   "outputs": [
    {
     "data": {
      "image/png": "[encoded data removed]",
      "text/plain": [
       "<Figure size 432x288 with 1 Axes>"
      ]
     },
     "metadata": {
      "needs_background": "light"
     },
     "output_type": "display_data"
    }
   ],
   "source": [
    "# Plot the training and testing data \n",
    "def plot_pred(X_train=X_train, y_train=y_train, X_test=X_test, y_test=y_test, pred=None):\n",
    "    plt.plot(X_train, y_train, c='blue')\n",
    "    plt.plot(X_test, y_test, c='green')\n",
    "    if pred is not None:\n",
    "        plt.plot(X_test, pred.cpu().numpy(), c='red')\n",
    "    plt.xlabel('X')\n",
    "    plt.ylabel('Y')\n",
    "    plt.show()\n",
    "    \n",
    "plot_pred()"
   ]
  },
  {
   "cell_type": "markdown",
   "metadata": {
    "id": "ImZoe3v8jif8"
   },
   "source": [
    "## 2. Build a PyTorch model by subclassing `nn.Module`. \n",
    "  * Inside should be a randomly initialized `nn.Parameter()` with `requires_grad=True`, one for `weights` and one for `bias`. \n",
    "  * Implement the `forward()` method to compute the linear regression function you used to create the dataset in 1. \n",
    "  * Once you've constructed the model, make an instance of it and check its `state_dict()`.\n",
    "  * **Note:** If you'd like to use `nn.Linear()` instead of `nn.Parameter()` you can."
   ]
  },
  {
   "cell_type": "code",
   "execution_count": 14,
   "metadata": {
    "id": "qzd__Y5rjtB8"
   },
   "outputs": [],
   "source": [
    "# Create PyTorch linear regression model by subclassing nn.Module\n",
    "class LRModel(nn.Module):\n",
    "    def __init__(self):\n",
    "        super().__init__()\n",
    "        self.linear = nn.Linear(in_features=1, out_features=1)\n",
    "    \n",
    "    def forward(self, x):\n",
    "        return self.linear(x)"
   ]
  },
  {
   "cell_type": "code",
   "execution_count": 15,
   "metadata": {
    "id": "5LdcDnmOmyQ2"
   },
   "outputs": [
    {
     "data": {
      "text/plain": [
       "OrderedDict([('linear.weight', tensor([[0.2709]])),\n",
       "             ('linear.bias', tensor([-0.9498]))])"
      ]
     },
     "execution_count": 15,
     "metadata": {},
     "output_type": "execute_result"
    }
   ],
   "source": [
    "# Instantiate the model and put it to the target device\n",
    "model = LRModel()\n",
    "model.to(device)\n",
    "model.state_dict()"
   ]
  },
  {
   "cell_type": "markdown",
   "metadata": {
    "id": "G6nYOrJhjtfu"
   },
   "source": [
    "## 3. Create a loss function and optimizer using `nn.L1Loss()` and `torch.optim.SGD(params, lr)` respectively. \n",
    "  * Set the learning rate of the optimizer to be 0.01 and the parameters to optimize should be the model parameters from the model you created in 2.\n",
    "  * Write a training loop to perform the appropriate training steps for 300 epochs.\n",
    "  * The training loop should test the model on the test dataset every 20 epochs."
   ]
  },
  {
   "cell_type": "code",
   "execution_count": 16,
   "metadata": {
    "id": "ltvoZ-FWjv1j"
   },
   "outputs": [],
   "source": [
    "# Create the loss function and optimizer\n",
    "loss_fn = nn.L1Loss()\n",
    "optim = torch.optim.SGD(model.parameters(), lr=0.01)"
   ]
  },
  {
   "cell_type": "code",
   "execution_count": 24,
   "metadata": {
    "id": "xpE83NvNnkdV",
    "scrolled": true
   },
   "outputs": [
    {
     "name": "stdout",
     "output_type": "stream",
     "text": [
      "Epoch: 0 | Train loss: 0.070 | Test loss: 0.164\n",
      "Epoch: 20 | Train loss: 0.063 | Test loss: 0.149\n",
      "Epoch: 40 | Train loss: 0.057 | Test loss: 0.133\n",
      "Epoch: 60 | Train loss: 0.050 | Test loss: 0.117\n",
      "Epoch: 80 | Train loss: 0.043 | Test loss: 0.100\n",
      "Epoch: 100 | Train loss: 0.036 | Test loss: 0.084\n",
      "Epoch: 120 | Train loss: 0.029 | Test loss: 0.068\n",
      "Epoch: 140 | Train loss: 0.022 | Test loss: 0.052\n",
      "Epoch: 160 | Train loss: 0.015 | Test loss: 0.036\n",
      "Epoch: 180 | Train loss: 0.009 | Test loss: 0.019\n",
      "Epoch: 200 | Train loss: 0.002 | Test loss: 0.004\n",
      "Epoch: 220 | Train loss: 0.004 | Test loss: 0.011\n",
      "Epoch: 240 | Train loss: 0.004 | Test loss: 0.011\n",
      "Epoch: 260 | Train loss: 0.004 | Test loss: 0.011\n",
      "Epoch: 280 | Train loss: 0.004 | Test loss: 0.011\n",
      "Epoch: 300 | Train loss: 0.004 | Test loss: 0.011\n",
      "Epoch: 320 | Train loss: 0.004 | Test loss: 0.011\n",
      "Epoch: 340 | Train loss: 0.004 | Test loss: 0.011\n",
      "Epoch: 360 | Train loss: 0.004 | Test loss: 0.011\n",
      "Epoch: 380 | Train loss: 0.004 | Test loss: 0.011\n",
      "Epoch: 400 | Train loss: 0.004 | Test loss: 0.011\n",
      "Epoch: 420 | Train loss: 0.004 | Test loss: 0.011\n",
      "Epoch: 440 | Train loss: 0.004 | Test loss: 0.011\n",
      "Epoch: 460 | Train loss: 0.004 | Test loss: 0.011\n",
      "Epoch: 480 | Train loss: 0.004 | Test loss: 0.011\n",
      "Epoch: 500 | Train loss: 0.004 | Test loss: 0.011\n",
      "Epoch: 520 | Train loss: 0.004 | Test loss: 0.011\n",
      "Epoch: 540 | Train loss: 0.004 | Test loss: 0.011\n",
      "Epoch: 560 | Train loss: 0.004 | Test loss: 0.011\n",
      "Epoch: 580 | Train loss: 0.004 | Test loss: 0.011\n",
      "Epoch: 600 | Train loss: 0.004 | Test loss: 0.011\n",
      "Epoch: 620 | Train loss: 0.004 | Test loss: 0.011\n",
      "Epoch: 640 | Train loss: 0.004 | Test loss: 0.011\n",
      "Epoch: 660 | Train loss: 0.004 | Test loss: 0.011\n",
      "Epoch: 680 | Train loss: 0.004 | Test loss: 0.011\n",
      "Epoch: 700 | Train loss: 0.004 | Test loss: 0.011\n",
      "Epoch: 720 | Train loss: 0.004 | Test loss: 0.011\n",
      "Epoch: 740 | Train loss: 0.004 | Test loss: 0.011\n",
      "Epoch: 760 | Train loss: 0.004 | Test loss: 0.011\n",
      "Epoch: 780 | Train loss: 0.004 | Test loss: 0.011\n",
      "Epoch: 800 | Train loss: 0.004 | Test loss: 0.011\n",
      "Epoch: 820 | Train loss: 0.004 | Test loss: 0.011\n",
      "Epoch: 840 | Train loss: 0.004 | Test loss: 0.011\n",
      "Epoch: 860 | Train loss: 0.004 | Test loss: 0.011\n",
      "Epoch: 880 | Train loss: 0.004 | Test loss: 0.011\n",
      "Epoch: 900 | Train loss: 0.004 | Test loss: 0.011\n",
      "Epoch: 920 | Train loss: 0.004 | Test loss: 0.011\n",
      "Epoch: 940 | Train loss: 0.004 | Test loss: 0.011\n",
      "Epoch: 960 | Train loss: 0.004 | Test loss: 0.011\n",
      "Epoch: 980 | Train loss: 0.004 | Test loss: 0.011\n",
      "Epoch: 1000 | Train loss: 0.004 | Test loss: 0.011\n",
      "Epoch: 1020 | Train loss: 0.004 | Test loss: 0.011\n",
      "Epoch: 1040 | Train loss: 0.004 | Test loss: 0.011\n",
      "Epoch: 1060 | Train loss: 0.004 | Test loss: 0.011\n",
      "Epoch: 1080 | Train loss: 0.004 | Test loss: 0.011\n",
      "Epoch: 1100 | Train loss: 0.004 | Test loss: 0.011\n",
      "Epoch: 1120 | Train loss: 0.004 | Test loss: 0.011\n",
      "Epoch: 1140 | Train loss: 0.004 | Test loss: 0.011\n",
      "Epoch: 1160 | Train loss: 0.004 | Test loss: 0.011\n",
      "Epoch: 1180 | Train loss: 0.004 | Test loss: 0.011\n",
      "Epoch: 1200 | Train loss: 0.004 | Test loss: 0.011\n",
      "Epoch: 1220 | Train loss: 0.004 | Test loss: 0.011\n",
      "Epoch: 1240 | Train loss: 0.004 | Test loss: 0.011\n",
      "Epoch: 1260 | Train loss: 0.004 | Test loss: 0.011\n",
      "Epoch: 1280 | Train loss: 0.004 | Test loss: 0.011\n",
      "Epoch: 1300 | Train loss: 0.004 | Test loss: 0.011\n",
      "Epoch: 1320 | Train loss: 0.004 | Test loss: 0.011\n",
      "Epoch: 1340 | Train loss: 0.004 | Test loss: 0.011\n",
      "Epoch: 1360 | Train loss: 0.004 | Test loss: 0.011\n",
      "Epoch: 1380 | Train loss: 0.004 | Test loss: 0.011\n",
      "Epoch: 1400 | Train loss: 0.004 | Test loss: 0.011\n",
      "Epoch: 1420 | Train loss: 0.004 | Test loss: 0.011\n",
      "Epoch: 1440 | Train loss: 0.004 | Test loss: 0.011\n",
      "Epoch: 1460 | Train loss: 0.004 | Test loss: 0.011\n",
      "Epoch: 1480 | Train loss: 0.004 | Test loss: 0.011\n"
     ]
    }
   ],
   "source": [
    "# Training loop\n",
    "\n",
    "\n",
    "# Train model for 300 epochs\n",
    "epochs = 1500\n",
    "\n",
    "# Send data to target device\n",
    "X_train, y_train, X_test, y_test = X_train.to(device), y_train.to(device), X_test.to(device), y_test.to(device)\n",
    "\n",
    "for epoch in range(epochs):\n",
    "  ### Training\n",
    "\n",
    "  # Put model in train mode\n",
    "    model.train()\n",
    "\n",
    "  # 1. Forward pass\n",
    "    pred = model(X_train)\n",
    "\n",
    "  # 2. Calculate loss\n",
    "    loss = loss_fn(pred, y_train)\n",
    "\n",
    "  # 3. Zero gradients\n",
    "    optim.zero_grad()\n",
    "\n",
    "  # 4. Backpropagation\n",
    "    loss.backward()\n",
    "\n",
    "  # 5. Step the optimizer\n",
    "    optim.step()\n",
    "\n",
    "  ### Perform testing every 20 epochs\n",
    "    if epoch % 20 == 0:\n",
    "\n",
    "    # Put model in evaluation mode and setup inference context \n",
    "        model.eval()\n",
    "        with torch.inference_mode():\n",
    "      # 1. Forward pass\n",
    "            test_pred = model(X_test)\n",
    "      # 2. Calculate test loss\n",
    "            test_loss = loss_fn(test_pred, y_test)\n",
    "      # Print out what's happening\n",
    "        print(f\"Epoch: {epoch} | Train loss: {loss:.3f} | Test loss: {test_loss:.3f}\")"
   ]
  },
  {
   "cell_type": "markdown",
   "metadata": {
    "id": "x4j4TM18jwa7"
   },
   "source": [
    "## 4. Make predictions with the trained model on the test data.\n",
    "  * Visualize these predictions against the original training and testing data (**note:** you may need to make sure the predictions are *not* on the GPU if you want to use non-CUDA-enabled libraries such as matplotlib to plot)."
   ]
  },
  {
   "cell_type": "code",
   "execution_count": 25,
   "metadata": {
    "id": "bbMPK5Qjjyx_"
   },
   "outputs": [],
   "source": [
    "# Make predictions with the model\n",
    "model.eval()\n",
    "with torch.inference_mode():\n",
    "    pred = model(X_test)"
   ]
  },
  {
   "cell_type": "code",
   "execution_count": 26,
   "metadata": {
    "id": "K3BdmQaDpFo8"
   },
   "outputs": [
    {
     "data": {
      "image/png": "[encoded data removed]",
      "text/plain": [
       "<Figure size 432x288 with 1 Axes>"
      ]
     },
     "metadata": {
      "needs_background": "light"
     },
     "output_type": "display_data"
    }
   ],
   "source": [
    "# Plot the predictions (these may need to be on a specific device)\n",
    "plot_pred(pred=pred)"
   ]
  },
  {
   "cell_type": "markdown",
   "metadata": {
    "id": "s2OnlMWKjzX8"
   },
   "source": [
    "## 5. Save your trained model's `state_dict()` to file.\n",
    "  * Create a new instance of your model class you made in 2. and load in the `state_dict()` you just saved to it.\n",
    "  * Perform predictions on your test data with the loaded model and confirm they match the original model predictions from 4."
   ]
  },
  {
   "cell_type": "code",
   "execution_count": 27,
   "metadata": {
    "id": "hgxhgD14qr-i"
   },
   "outputs": [],
   "source": [
    "from pathlib import Path\n",
    "\n",
    "# 1. Create models directory \n",
    "MODEL_PATH = Path('models')\n",
    "MODEL_PATH.mkdir(parents=True, exist_ok=True)\n",
    "# 2. Create model save path \n",
    "MODEL_NAME = \"01_pytorch_workflow_exercises_1.pth\"\n",
    "MODEL_SAVE_PATH = MODEL_PATH / MODEL_NAME\n",
    "# 3. Save the model state dict\n",
    "torch.save(model.state_dict(), MODEL_SAVE_PATH)"
   ]
  },
  {
   "cell_type": "code",
   "execution_count": 28,
   "metadata": {
    "id": "P9vTgiLRrJ7T"
   },
   "outputs": [
    {
     "data": {
      "text/plain": [
       "LRModel(\n",
       "  (linear): Linear(in_features=1, out_features=1, bias=True)\n",
       ")"
      ]
     },
     "execution_count": 28,
     "metadata": {},
     "output_type": "execute_result"
    }
   ],
   "source": [
    "# Create new instance of model and load saved state dict (make sure to put it on the target device)\n",
    "loaded_model = LRModel()\n",
    "loaded_model.load_state_dict(torch.load(MODEL_SAVE_PATH))\n",
    "loaded_model.to(device)"
   ]
  },
  {
   "cell_type": "code",
   "execution_count": 29,
   "metadata": {
    "id": "8UGX3VebrVtI"
   },
   "outputs": [
    {
     "data": {
      "text/plain": [
       "tensor([[True],\n",
       "        [True],\n",
       "        [True],\n",
       "        [True],\n",
       "        [True],\n",
       "        [True],\n",
       "        [True],\n",
       "        [True],\n",
       "        [True],\n",
       "        [True],\n",
       "        [True],\n",
       "        [True],\n",
       "        [True],\n",
       "        [True],\n",
       "        [True],\n",
       "        [True],\n",
       "        [True],\n",
       "        [True],\n",
       "        [True],\n",
       "        [True]])"
      ]
     },
     "execution_count": 29,
     "metadata": {},
     "output_type": "execute_result"
    }
   ],
   "source": [
    "# Make predictions with loaded model and compare them to the previous\n",
    "preds = loaded_model(X_test)\n",
    "preds==pred"
   ]
  }
 ],
 "metadata": {
  "accelerator": "GPU",
  "colab": {
   "authorship_tag": "ABX9TyNYzatJtFkfUqqdiR6rYwVL",
   "collapsed_sections": [],
   "include_colab_link": true,
   "name": "01_pytorch_workflow_exercises.ipynb",
   "provenance": []
  },
  "kernelspec": {
   "display_name": "Python 3 (ipykernel)",
   "language": "python",
   "name": "python3"
  },
  "language_info": {
   "codemirror_mode": {
    "name": "ipython",
    "version": 3
   },
   "file_extension": ".py",
   "mimetype": "text/x-python",
   "name": "python",
   "nbconvert_exporter": "python",
   "pygments_lexer": "ipython3",
   "version": "3.9.12"
  }
 },
 "nbformat": 4,
 "nbformat_minor": 1
}
