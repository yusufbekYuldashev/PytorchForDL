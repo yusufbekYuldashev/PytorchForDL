{
 "cells": [
  {
   "cell_type": "markdown",
   "metadata": {
    "colab_type": "text",
    "id": "view-in-github"
   },
   "source": [
    "<a href=\"https://colab.research.google.com/github/mrdbourke/pytorch-deep-learning/blob/main/extras/exercises/02_pytorch_classification_exercises.ipynb\" target=\"_parent\"><img src=\"https://colab.research.google.com/assets/colab-badge.svg\" alt=\"Open In Colab\"/></a>"
   ]
  },
  {
   "cell_type": "markdown",
   "metadata": {
    "id": "ZKJFt7YxH8yl"
   },
   "source": [
    "# 02. PyTorch Classification Exercises\n",
    "\n",
    "The following is a template for 02. PyTorch Classification exercises.\n",
    "\n",
    "It's only starter code and it's your job to fill in the blanks.\n",
    "\n",
    "Because of the flexibility of PyTorch, there may be more than one way to answer the question.\n",
    "\n",
    "Don't worry about trying to be *right* just try writing code that suffices the question.\n",
    "\n",
    "## Resources\n",
    "* These exercises are based on [notebook 02 of the learn PyTorch course](https://www.learnpytorch.io/02_pytorch_classification/).\n",
    "* You can see one form of [solutions on GitHub](https://github.com/mrdbourke/pytorch-deep-learning/tree/main/extras/solutions) (but try the exercises below yourself first!)."
   ]
  },
  {
   "cell_type": "code",
   "execution_count": null,
   "metadata": {
    "id": "CSrUPgapO0tf"
   },
   "outputs": [],
   "source": [
    "# Import torch\n",
    "import torch\n",
    "\n",
    "# Setup device agnostic code\n",
    "device = 'cuda' if torch.cuda.is_available() else 'cpu'\n",
    "\n",
    "# Setup random seed\n",
    "RANDOM_SEED = 42"
   ]
  },
  {
   "cell_type": "markdown",
   "metadata": {
    "id": "pH7jIZ2SPFee"
   },
   "source": [
    "## 1. Make a binary classification dataset with Scikit-Learn's [`make_moons()`](https://scikit-learn.org/stable/modules/generated/sklearn.datasets.make_moons.html) function.\n",
    "  * For consistency, the dataset should have 1000 samples and a `random_state=42`.\n",
    "  * Turn the data into PyTorch tensors. \n",
    "  * Split the data into training and test sets using `train_test_split` with 80% training and 20% testing."
   ]
  },
  {
   "cell_type": "code",
   "execution_count": null,
   "metadata": {
    "id": "5t4VhPV1PX1X"
   },
   "outputs": [],
   "source": [
    "# Create a dataset with Scikit-Learn's make_moons()\n",
    "from sklearn.datasets import make_moons\n",
    "\n",
    "X, y = make_moons(n_samples=1000,\n",
    "                 random_state=RANDOM_SEED)\n",
    "X[:5], y[:5]"
   ]
  },
  {
   "cell_type": "code",
   "execution_count": null,
   "metadata": {
    "id": "SUeHZ3-3P9C7"
   },
   "outputs": [],
   "source": [
    "# Turn data into a DataFrame\n",
    "import pandas as pd\n",
    "\n",
    "df = pd.DataFrame({'X0': X[:, 0], 'X1': X[:, 1], 'y': y})\n",
    "df.head()"
   ]
  },
  {
   "cell_type": "code",
   "execution_count": null,
   "metadata": {
    "id": "owrkPSFvQPFI"
   },
   "outputs": [],
   "source": [
    "# Visualize the data on a scatter plot\n",
    "import matplotlib.pyplot as plt\n",
    "plt.scatter(x=X[:, 0], y=X[:, 1], c=y, cmap=plt.cm.RdYlBu)"
   ]
  },
  {
   "cell_type": "code",
   "execution_count": null,
   "metadata": {
    "id": "bDhyHn9fR4dq"
   },
   "outputs": [],
   "source": [
    "# Turn data into tensors of dtype float\n",
    "X, y = torch.from_numpy(X).type(torch.float), torch.from_numpy(y).type(torch.float) \n",
    "# Split the data into train and test sets (80% train, 20% test)\n",
    "from sklearn.model_selection import train_test_split\n",
    "X_train, X_test, y_train, y_test = train_test_split(X, y, test_size=0.2, random_state=42)\n",
    "len(X_train), len(X_test), len(y_train), len(y_test)"
   ]
  },
  {
   "cell_type": "markdown",
   "metadata": {
    "id": "cMIjxZdzQfPz"
   },
   "source": [
    "## 2. Build a model by subclassing `nn.Module` that incorporates non-linear activation functions and is capable of fitting the data you created in 1.\n",
    "  * Feel free to use any combination of PyTorch layers (linear and non-linear) you want."
   ]
  },
  {
   "cell_type": "code",
   "execution_count": null,
   "metadata": {
    "id": "hwtyvm34Ri6Q"
   },
   "outputs": [],
   "source": [
    "import torch\n",
    "from torch import nn\n",
    "\n",
    "# Inherit from nn.Module to make a model capable of fitting the mooon data\n",
    "class MoonModelV0(nn.Module):\n",
    "    \n",
    "    def __init__(self, in_features, out_features, hidden_features=100):\n",
    "        super().__init__()\n",
    "        self.linear_stack = nn.Sequential(\n",
    "            nn.Linear(in_features=in_features, out_features=hidden_features),\n",
    "            nn.ReLU(),\n",
    "            nn.Linear(in_features=hidden_features, out_features=hidden_features),\n",
    "            nn.ReLU(),\n",
    "            nn.Linear(in_features=hidden_features, out_features=hidden_features),\n",
    "            nn.ReLU(),\n",
    "            nn.Linear(in_features=hidden_features, out_features=out_features),\n",
    "        )\n",
    "\n",
    "    def forward(self, x):\n",
    "        return self.linear_stack(x)\n",
    "\n",
    "# Instantiate the model\n",
    "model = MoonModelV0(in_features=2, out_features=1).to(device)\n",
    "model"
   ]
  },
  {
   "cell_type": "markdown",
   "metadata": {
    "id": "DSj97RwyVeFE"
   },
   "source": [
    "## 3. Setup a binary classification compatible loss function and optimizer to use when training the model built in 2."
   ]
  },
  {
   "cell_type": "code",
   "execution_count": null,
   "metadata": {
    "id": "whSGw5qgVvxU"
   },
   "outputs": [],
   "source": [
    "# Setup loss function\n",
    "loss_fn = nn.BCEWithLogitsLoss()\n",
    "# Setup optimizer to optimize model's parameters\n",
    "optim = torch.optim.SGD(params=model.parameters(), lr=0.1)"
   ]
  },
  {
   "cell_type": "markdown",
   "metadata": {
    "id": "nvk4PfNTWUAt"
   },
   "source": [
    "## 4. Create a training and testing loop to fit the model you created in 2 to the data you created in 1.\n",
    "  * Do a forward pass of the model to see what's coming out in the form of logits, prediction probabilities and labels.\n",
    "  * To measure model accuray, you can create your own accuracy function or use the accuracy function in [TorchMetrics](https://torchmetrics.readthedocs.io/en/latest/).\n",
    "  * Train the model for long enough for it to reach over 96% accuracy.\n",
    "  * The training loop should output progress every 10 epochs of the model's training and test set loss and accuracy."
   ]
  },
  {
   "cell_type": "code",
   "execution_count": null,
   "metadata": {
    "colab": {
     "base_uri": "https://localhost:8080/"
    },
    "id": "AgnFdlamd2-D",
    "outputId": "627d8c33-071e-4925-f18b-5d5ba6126729"
   },
   "outputs": [],
   "source": [
    "# What's coming out of our model?\n",
    "# logits (raw outputs of model)\n",
    "logits = model(X_train)\n",
    "print(\"Logits:\", logits[:5])\n",
    "# Prediction probabilities\n",
    "probs = torch.sigmoid(logits)\n",
    "print(\"Pred probs:\", probs[:5])\n",
    "# Prediction labels\n",
    "labels = torch.round(probs)\n",
    "print(\"Pred labels:\", labels[:5])"
   ]
  },
  {
   "cell_type": "code",
   "execution_count": null,
   "metadata": {
    "id": "rUSDNHB4euoJ"
   },
   "outputs": [],
   "source": [
    "# Let's calculuate the accuracy using accuracy from TorchMetrics\n",
    "from torchmetrics import Accuracy\n",
    "\n",
    "acc_fn = Accuracy(task=\"multiclass\", num_classes=2).to(device) # send accuracy function to device\n",
    "acc_fn"
   ]
  },
  {
   "cell_type": "code",
   "execution_count": null,
   "metadata": {
    "id": "SHBY3h7XXnxt"
   },
   "outputs": [],
   "source": [
    "torch.manual_seed(RANDOM_SEED)\n",
    "\n",
    "# Setup epochs\n",
    "epochs = 200\n",
    "\n",
    "# Send data to the device\n",
    "X_train, y_train, X_test, y_test = X_train.to(device), y_train.to(device), X_test.to(device), y_test.to(device)\n",
    "\n",
    "# Loop through the data\n",
    "for epoch in range(epochs):\n",
    "  ### Training\n",
    "    model.train()\n",
    "\n",
    "  # 1. Forward pass (logits output)\n",
    "    logits = model(X_train).squeeze()\n",
    "  # Turn logits into prediction probabilities\n",
    "    probs = torch.sigmoid(logits)\n",
    "  # Turn prediction probabilities into prediction labels\n",
    "    labels = torch.round(probs)\n",
    "\n",
    "  # 2. Calculaute the loss\n",
    "    loss = loss_fn(logits, y_train) # loss = compare model raw outputs to desired model outputs\n",
    "\n",
    "  # Calculate the accuracy\n",
    "    acc = acc_fn(labels, y_train.int()) # the accuracy function needs to compare pred labels (not logits) with actual labels\n",
    "\n",
    "  # 3. Zero the gradients\n",
    "    optim.zero_grad()\n",
    "\n",
    "  # 4. Loss backward (perform backpropagation) - https://brilliant.org/wiki/backpropagation/#:~:text=Backpropagation%2C%20short%20for%20%22backward%20propagation,to%20the%20neural%20network's%20weights.\n",
    "    loss.backward()\n",
    "  # 5. Step the optimizer (gradient descent) - https://towardsdatascience.com/gradient-descent-algorithm-a-deep-dive-cf04e8115f21#:~:text=Gradient%20descent%20(GD)%20is%20an,e.g.%20in%20a%20linear%20regression) \n",
    "    optim.step()\n",
    "\n",
    "  ### Testing\n",
    "    model.eval() \n",
    "    with torch.inference_mode():\n",
    "    # 1. Forward pass (to get the logits)\n",
    "        test_logits = model(X_test).squeeze()\n",
    "    # Turn the test logits into prediction labels\n",
    "        test_labels = torch.round(torch.sigmoid(test_logits))\n",
    "\n",
    "    # 2. Caculate the test loss/acc\n",
    "        test_loss = loss_fn(test_logits, y_test)\n",
    "        test_acc = acc_fn(test_labels, y_test.int())\n",
    "\n",
    "  # Print out what's happening every 100 epochs\n",
    "    if (epoch+1) % 10 == 0:\n",
    "        print(f\"Epoch: {epoch} Loss: {loss:.5f} Acc: {acc:.2f}% Test loss: {test_loss:.5f} Test Acc: {test_acc:.2f}%\")"
   ]
  },
  {
   "cell_type": "markdown",
   "metadata": {
    "id": "8Nwihtomj9JO"
   },
   "source": [
    "## 5. Make predictions with your trained model and plot them using the `plot_decision_boundary()` function created in this notebook."
   ]
  },
  {
   "cell_type": "code",
   "execution_count": 9,
   "metadata": {
    "id": "0YRzatb8a1P2"
   },
   "outputs": [],
   "source": [
    "# Plot the model predictions\n",
    "import numpy as np\n",
    "\n",
    "def plot_decision_boundary(model, X, y):\n",
    "  \n",
    "    # Put everything to CPU (works better with NumPy + Matplotlib)\n",
    "    model.to(\"cpu\")\n",
    "    X, y = X.to(\"cpu\"), y.to(\"cpu\")\n",
    "\n",
    "    # Source - https://madewithml.com/courses/foundations/neural-networks/ \n",
    "    # (with modifications)\n",
    "    x_min, x_max = X[:, 0].min() - 0.1, X[:, 0].max() + 0.1\n",
    "    y_min, y_max = X[:, 1].min() - 0.1, X[:, 1].max() + 0.1\n",
    "    xx, yy = np.meshgrid(np.linspace(x_min, x_max, 101), \n",
    "                         np.linspace(y_min, y_max, 101))\n",
    "\n",
    "    # Make features\n",
    "    X_to_pred_on = torch.from_numpy(np.column_stack((xx.ravel(), yy.ravel()))).float()\n",
    "\n",
    "    # Make predictions\n",
    "    model.eval()\n",
    "    with torch.inference_mode():\n",
    "        y_logits = model(X_to_pred_on)\n",
    "\n",
    "    # Test for multi-class or binary and adjust logits to prediction labels\n",
    "    if len(torch.unique(y)) > 2:\n",
    "        y_pred = torch.softmax(y_logits, dim=1).argmax(dim=1) # mutli-class\n",
    "    else: \n",
    "        y_pred = torch.round(torch.sigmoid(y_logits)) # binary\n",
    "    \n",
    "    # Reshape preds and plot\n",
    "    y_pred = y_pred.reshape(xx.shape).detach().numpy()\n",
    "    plt.contourf(xx, yy, y_pred, cmap=plt.cm.RdYlBu, alpha=0.7)\n",
    "    plt.scatter(X[:, 0], X[:, 1], c=y, s=40, cmap=plt.cm.RdYlBu)\n",
    "    plt.xlim(xx.min(), xx.max())\n",
    "    plt.ylim(yy.min(), yy.max())"
   ]
  },
  {
   "cell_type": "code",
   "execution_count": null,
   "metadata": {
    "id": "PMrcpyirig1d"
   },
   "outputs": [],
   "source": [
    "# Plot decision boundaries for training and test sets\n",
    "plot_decision_boundary(model, X_train, y_train)"
   ]
  },
  {
   "cell_type": "markdown",
   "metadata": {
    "id": "EtMYBvtciiAU"
   },
   "source": [
    "## 6. Replicate the Tanh (hyperbolic tangent) activation function in pure PyTorch.\n",
    "  * Feel free to reference the [ML cheatsheet website](https://ml-cheatsheet.readthedocs.io/en/latest/activation_functions.html#tanh) for the formula."
   ]
  },
  {
   "cell_type": "code",
   "execution_count": null,
   "metadata": {
    "id": "BlXaWC5TkEUE"
   },
   "outputs": [],
   "source": [
    "# Create a straight line tensor\n",
    "line = torch.arange(1, 5, 0.5)\n",
    "line"
   ]
  },
  {
   "cell_type": "code",
   "execution_count": null,
   "metadata": {
    "id": "vZPCcQmIkZjO"
   },
   "outputs": [],
   "source": [
    "# Test torch.tanh() on the tensor and plot it\n",
    "tanh = torch.tanh(line)\n",
    "plt.plot(tanh)"
   ]
  },
  {
   "cell_type": "code",
   "execution_count": null,
   "metadata": {
    "id": "J-ne__Kjkdc1"
   },
   "outputs": [],
   "source": [
    "# Replicate torch.tanh() and plot it\n",
    "def tanh_fn(x):\n",
    "    return (np.exp(x) - np.exp(-x)) / (np.exp(x) + np.exp(-x))\n",
    "tanh = tanh_fn(line)\n",
    "plt.plot(tanh)"
   ]
  },
  {
   "cell_type": "markdown",
   "metadata": {
    "id": "Lbt1bNcWk5G9"
   },
   "source": [
    "## 7. Create a multi-class dataset using the [spirals data creation function from CS231n](https://cs231n.github.io/neural-networks-case-study/) (see below for the code).\n",
    "  * Split the data into training and test sets (80% train, 20% test) as well as turn it into PyTorch tensors.\n",
    "  * Construct a model capable of fitting the data (you may need a combination of linear and non-linear layers).\n",
    "  * Build a loss function and optimizer capable of handling multi-class data (optional extension: use the Adam optimizer instead of SGD, you may have to experiment with different values of the learning rate to get it working).\n",
    "  * Make a training and testing loop for the multi-class data and train a model on it to reach over 95% testing accuracy (you can use any accuracy measuring function here that you like) - 1000 epochs should be plenty.\n",
    "  * Plot the decision boundaries on the spirals dataset from your model predictions, the `plot_decision_boundary()` function should work for this dataset too."
   ]
  },
  {
   "cell_type": "code",
   "execution_count": 1,
   "metadata": {
    "colab": {
     "base_uri": "https://localhost:8080/",
     "height": 265
    },
    "id": "tU-UNZsKlJls",
    "outputId": "8b7b745a-070d-4ecb-c639-c4ee4d8eae06"
   },
   "outputs": [
    {
     "data": {
      "image/png": "[encoded data removed]",
      "text/plain": [
       "<Figure size 432x288 with 1 Axes>"
      ]
     },
     "metadata": {
      "needs_background": "light"
     },
     "output_type": "display_data"
    }
   ],
   "source": [
    "# Code for creating a spiral dataset from CS231n\n",
    "import numpy as np\n",
    "import matplotlib.pyplot as plt\n",
    "RANDOM_SEED = 42\n",
    "np.random.seed(RANDOM_SEED)\n",
    "N = 100 # number of points per class\n",
    "D = 2 # dimensionality\n",
    "K = 3 # number of classes\n",
    "X = np.zeros((N*K,D)) # data matrix (each row = single example)\n",
    "y = np.zeros(N*K, dtype='uint8') # class labels\n",
    "for j in range(K):\n",
    "    ix = range(N*j,N*(j+1))\n",
    "    r = np.linspace(0.0,1,N) # radius\n",
    "    t = np.linspace(j*4,(j+1)*4,N) + np.random.randn(N)*0.2 # theta\n",
    "    X[ix] = np.c_[r*np.sin(t), r*np.cos(t)]\n",
    "    y[ix] = j\n",
    "# lets visualize the data\n",
    "plt.scatter(X[:, 0], X[:, 1], c=y, s=40, cmap=plt.cm.RdYlBu)\n",
    "plt.show()"
   ]
  },
  {
   "cell_type": "code",
   "execution_count": 2,
   "metadata": {
    "id": "OWVrmkEyl0VP"
   },
   "outputs": [
    {
     "name": "stdout",
     "output_type": "stream",
     "text": [
      "240 60\n",
      "tensor([[0.0000, 0.0000],\n",
      "        [0.0001, 0.0101],\n",
      "        [0.0042, 0.0198],\n",
      "        [0.0125, 0.0276],\n",
      "        [0.0046, 0.0401]]) tensor([0, 0, 0, 0, 0])\n"
     ]
    }
   ],
   "source": [
    "# Turn data into tensors\n",
    "import torch\n",
    "X = torch.from_numpy(X).type(torch.float) # features as float32\n",
    "y = torch.from_numpy(y).type(torch.LongTensor) # labels need to be of type long\n",
    "\n",
    "# Create train and test splits\n",
    "from sklearn.model_selection import train_test_split\n",
    "\n",
    "X_train, X_test, y_train, y_test = train_test_split(X, y, test_size=0.2, random_state=RANDOM_SEED)\n",
    "print(len(X_train), len(X_test))\n",
    "print(X[:5], y[:5])"
   ]
  },
  {
   "cell_type": "code",
   "execution_count": 3,
   "metadata": {
    "id": "a-v-7f0op0tG"
   },
   "outputs": [
    {
     "name": "stderr",
     "output_type": "stream",
     "text": [
      "C:\\Users\\InE_STD\\anaconda3\\lib\\site-packages\\torchaudio\\backend\\utils.py:74: UserWarning: No audio backend is available.\n",
      "  warnings.warn(\"No audio backend is available.\")\n"
     ]
    },
    {
     "data": {
      "text/plain": [
       "MulticlassAccuracy()"
      ]
     },
     "execution_count": 3,
     "metadata": {},
     "output_type": "execute_result"
    }
   ],
   "source": [
    "# Let's calculuate the accuracy for when we fit our model\n",
    "from torchmetrics import Accuracy\n",
    "\n",
    "device = 'cuda' if torch.cuda.is_available() else 'cpu'\n",
    "\n",
    "acc_fn = Accuracy(task=\"multiclass\", num_classes=3).to(device)\n",
    "acc_fn"
   ]
  },
  {
   "cell_type": "code",
   "execution_count": 4,
   "metadata": {
    "id": "DB3u3ldumapf"
   },
   "outputs": [
    {
     "data": {
      "text/plain": [
       "SpiralModel(\n",
       "  (stack): Sequential(\n",
       "    (0): Linear(in_features=2, out_features=100, bias=True)\n",
       "    (1): Tanh()\n",
       "    (2): Linear(in_features=100, out_features=100, bias=True)\n",
       "    (3): Tanh()\n",
       "    (4): Linear(in_features=100, out_features=100, bias=True)\n",
       "    (5): Tanh()\n",
       "    (6): Linear(in_features=100, out_features=100, bias=True)\n",
       "    (7): Tanh()\n",
       "    (8): Linear(in_features=100, out_features=3, bias=True)\n",
       "    (9): Softmax(dim=1)\n",
       "  )\n",
       ")"
      ]
     },
     "execution_count": 4,
     "metadata": {},
     "output_type": "execute_result"
    }
   ],
   "source": [
    "from torch import nn\n",
    "\n",
    "# Create model by subclassing nn.Module\n",
    "class SpiralModel(nn.Module):\n",
    "    def __init__(self, in_features=D, out_features=K, hidden_features=100):\n",
    "        super().__init__()\n",
    "        self.stack = nn.Sequential(\n",
    "            nn.Linear(in_features=in_features, out_features=hidden_features),\n",
    "            nn.Tanh(),\n",
    "            nn.Linear(in_features=hidden_features, out_features=hidden_features),\n",
    "            nn.Tanh(),\n",
    "            nn.Linear(in_features=hidden_features, out_features=hidden_features),\n",
    "            nn.Tanh(),\n",
    "            nn.Linear(in_features=hidden_features, out_features=hidden_features),\n",
    "            nn.Tanh(),\n",
    "            nn.Linear(in_features=hidden_features, out_features=out_features),\n",
    "            nn.Softmax(dim=1)\n",
    "        )\n",
    "    def forward(self, x):\n",
    "        return self.stack(x)\n",
    "\n",
    "# Instantiate model and send it to device\n",
    "spiralmodel = SpiralModel().to(device)\n",
    "spiralmodel"
   ]
  },
  {
   "cell_type": "code",
   "execution_count": 5,
   "metadata": {
    "colab": {
     "base_uri": "https://localhost:8080/"
    },
    "id": "QE7XWSSunMTS",
    "outputId": "00b31909-87c9-41e3-9dbb-fb4c4bd3aabd"
   },
   "outputs": [
    {
     "name": "stdout",
     "output_type": "stream",
     "text": [
      "Pred probs: tensor([[0.3319, 0.3420, 0.3262],\n",
      "        [0.3297, 0.3399, 0.3304],\n",
      "        [0.3311, 0.3452, 0.3237],\n",
      "        [0.3232, 0.3442, 0.3325],\n",
      "        [0.3257, 0.3484, 0.3259],\n",
      "        [0.3286, 0.3453, 0.3262],\n",
      "        [0.3295, 0.3456, 0.3249],\n",
      "        [0.3368, 0.3436, 0.3196],\n",
      "        [0.3274, 0.3409, 0.3316],\n",
      "        [0.3231, 0.3443, 0.3326]], grad_fn=<SliceBackward0>)\n",
      "Pred labels: tensor([1, 1, 1, 1, 1, 1, 1, 1, 1, 1])\n"
     ]
    }
   ],
   "source": [
    "# Setup data to be device agnostic\n",
    "X_train, X_test, y_train, y_test = X_train.to(device), X_test.to(device), y_train.to(device), y_test.to(device)\n",
    "\n",
    "# Print out first 10 untrained model outputs (forward pass)\n",
    "probs = spiralmodel(X_train)\n",
    "print(\"Pred probs:\", probs[:10])\n",
    "labels = torch.argmax(probs, dim=1)\n",
    "print(\"Pred labels:\", labels[:10])"
   ]
  },
  {
   "cell_type": "code",
   "execution_count": 6,
   "metadata": {
    "id": "54EqLRKLo0AW"
   },
   "outputs": [],
   "source": [
    "# Setup loss function and optimizer\n",
    "loss_fn = nn.CrossEntropyLoss()\n",
    "optim = torch.optim.Adam(params=spiralmodel.parameters(), lr=0.001)"
   ]
  },
  {
   "cell_type": "code",
   "execution_count": 7,
   "metadata": {
    "id": "vIlExkUHnmxi"
   },
   "outputs": [
    {
     "name": "stdout",
     "output_type": "stream",
     "text": [
      "Epoch: 0 Loss: 1.09883 Acc: 0.35 Test Loss: 1.09322 Test Acc: 0.42\n",
      "Epoch: 10 Loss: 0.98858 Acc: 0.57 Test Loss: 0.98900 Test Acc: 0.50\n",
      "Epoch: 20 Loss: 0.93017 Acc: 0.54 Test Loss: 0.93953 Test Acc: 0.52\n",
      "Epoch: 30 Loss: 0.91507 Acc: 0.65 Test Loss: 0.93602 Test Acc: 0.67\n",
      "Epoch: 40 Loss: 0.87838 Acc: 0.69 Test Loss: 0.88491 Test Acc: 0.72\n",
      "Epoch: 50 Loss: 0.86580 Acc: 0.69 Test Loss: 0.86849 Test Acc: 0.68\n",
      "Epoch: 60 Loss: 0.85362 Acc: 0.71 Test Loss: 0.86900 Test Acc: 0.72\n",
      "Epoch: 70 Loss: 0.84139 Acc: 0.73 Test Loss: 0.85755 Test Acc: 0.73\n",
      "Epoch: 80 Loss: 0.82882 Acc: 0.74 Test Loss: 0.84553 Test Acc: 0.73\n",
      "Epoch: 90 Loss: 0.81530 Acc: 0.74 Test Loss: 0.83104 Test Acc: 0.73\n",
      "Epoch: 100 Loss: 0.79661 Acc: 0.76 Test Loss: 0.81189 Test Acc: 0.73\n",
      "Epoch: 110 Loss: 0.75308 Acc: 0.81 Test Loss: 0.73790 Test Acc: 0.82\n",
      "Epoch: 120 Loss: 0.68712 Acc: 0.88 Test Loss: 0.68434 Test Acc: 0.88\n",
      "Epoch: 130 Loss: 0.65414 Acc: 0.91 Test Loss: 0.65192 Test Acc: 0.90\n",
      "Epoch: 140 Loss: 0.64082 Acc: 0.91 Test Loss: 0.62868 Test Acc: 0.92\n",
      "Epoch: 150 Loss: 0.63038 Acc: 0.92 Test Loss: 0.62854 Test Acc: 0.92\n",
      "Epoch: 160 Loss: 0.61912 Acc: 0.94 Test Loss: 0.61629 Test Acc: 0.93\n",
      "Epoch: 170 Loss: 0.60317 Acc: 0.95 Test Loss: 0.59746 Test Acc: 0.95\n",
      "Epoch: 180 Loss: 0.59481 Acc: 0.96 Test Loss: 0.58470 Test Acc: 0.98\n",
      "Epoch: 190 Loss: 0.59157 Acc: 0.96 Test Loss: 0.57898 Test Acc: 0.98\n"
     ]
    }
   ],
   "source": [
    "# Build a training loop for the model\n",
    "epochs = 200\n",
    "# Loop over data\n",
    "for epoch in range(epochs):\n",
    "    spiralmodel.train()\n",
    "  ## Training\n",
    "  # 1. Forward pass\n",
    "    preds = spiralmodel(X_train)\n",
    "    labels = preds.argmax(dim=1)    \n",
    "  # 2. Calculate the loss\n",
    "    loss = loss_fn(preds, y_train)\n",
    "    acc = acc_fn(labels, y_train)\n",
    "  # 3. Optimizer zero grad\n",
    "    optim.zero_grad()\n",
    "  # 4. Loss backward\n",
    "    loss.backward()\n",
    "  # 5. Optimizer step\n",
    "    optim.step()\n",
    "  ## Testing\n",
    "    spiralmodel.eval()\n",
    "    with torch.inference_mode():\n",
    "    # 1. Forward pass\n",
    "        test_preds = spiralmodel(X_test)\n",
    "        test_labels = test_preds.argmax(dim=1)\n",
    "    # 2. Caculate loss and acc\n",
    "        test_loss = loss_fn(test_preds, y_test)\n",
    "        test_acc = acc_fn(test_labels, y_test)\n",
    "  # Print out what's happening every 100 epochs\n",
    "    if epoch%10==0:\n",
    "        print(f\"Epoch: {epoch} Loss: {loss:.5f} Acc: {acc:.2f} Test Loss: {test_loss:.5f} Test Acc: {test_acc:.2f}\")"
   ]
  },
  {
   "cell_type": "code",
   "execution_count": 10,
   "metadata": {
    "id": "JrwVRbaE0keT"
   },
   "outputs": [
    {
     "data": {
      "image/png": "[encoded data removed]",
      "text/plain": [
       "<Figure size 432x288 with 1 Axes>"
      ]
     },
     "metadata": {
      "needs_background": "light"
     },
     "output_type": "display_data"
    }
   ],
   "source": [
    "# Plot decision boundaries for training and test sets\n",
    "plot_decision_boundary(spiralmodel, X, y)"
   ]
  }
 ],
 "metadata": {
  "accelerator": "GPU",
  "colab": {
   "authorship_tag": "ABX9TyNloicnciRwCXd2bJo6F2iS",
   "collapsed_sections": [],
   "include_colab_link": true,
   "name": "02_pytorch_classification_exercises.ipynb",
   "provenance": []
  },
  "kernelspec": {
   "display_name": "Python 3 (ipykernel)",
   "language": "python",
   "name": "python3"
  },
  "language_info": {
   "codemirror_mode": {
    "name": "ipython",
    "version": 3
   },
   "file_extension": ".py",
   "mimetype": "text/x-python",
   "name": "python",
   "nbconvert_exporter": "python",
   "pygments_lexer": "ipython3",
   "version": "3.9.12"
  }
 },
 "nbformat": 4,
 "nbformat_minor": 1
}
